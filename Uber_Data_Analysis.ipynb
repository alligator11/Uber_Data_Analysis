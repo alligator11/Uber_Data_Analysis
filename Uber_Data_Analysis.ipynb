{
  "cells": [
    {
      "cell_type": "markdown",
      "id": "b8201b0a",
      "metadata": {
        "id": "b8201b0a",
        "papermill": {
          "duration": 0.050067,
          "end_time": "2021-08-11T17:28:58.551413",
          "exception": false,
          "start_time": "2021-08-11T17:28:58.501346",
          "status": "completed"
        },
        "tags": []
      },
      "source": [
        "# UBER DATA ANALYSIS 📈"
      ]
    },
    {
      "cell_type": "markdown",
      "id": "ea21b856",
      "metadata": {
        "id": "ea21b856",
        "papermill": {
          "duration": 0.048096,
          "end_time": "2021-08-11T17:28:58.748846",
          "exception": false,
          "start_time": "2021-08-11T17:28:58.700750",
          "status": "completed"
        },
        "tags": []
      },
      "source": [
        "**About Dataset**\n",
        "\n",
        "*My Uber Drives*\n",
        "\n",
        "Columns: Start Date, End Date, Category, Start Location, Stop Location, Miles Driven and Purpose.\n",
        "\n",
        "Geography: USA, Sri Lanka and Pakistan\n",
        "\n",
        "Time period: January - December 2016\n",
        "\n",
        "Unit of analysis: Drives\n",
        "\n",
        "Total Drives: 1,155\n",
        "\n",
        "Total Miles: 12,204"
      ]
    },
    {
      "cell_type": "code",
      "execution_count": 1,
      "id": "3b18e4c9",
      "metadata": {
        "execution": {
          "iopub.execute_input": "2021-08-11T17:28:58.861829Z",
          "iopub.status.busy": "2021-08-11T17:28:58.861166Z",
          "iopub.status.idle": "2021-08-11T17:28:59.935011Z",
          "shell.execute_reply": "2021-08-11T17:28:59.934111Z",
          "shell.execute_reply.started": "2021-08-11T17:22:07.364315Z"
        },
        "id": "3b18e4c9",
        "papermill": {
          "duration": 1.135931,
          "end_time": "2021-08-11T17:28:59.935237",
          "exception": false,
          "start_time": "2021-08-11T17:28:58.799306",
          "status": "completed"
        },
        "tags": []
      },
      "outputs": [],
      "source": [
        "# Importing libraries\n",
        "import numpy as np\n",
        "import pandas as pd\n",
        "import matplotlib.pyplot as plt\n",
        "import seaborn as sns\n",
        "import datetime, time"
      ]
    },
    {
      "cell_type": "code",
      "source": [
        "df = pd.read_csv(\"/content/My Uber Drives - 2016.csv\")\n",
        "df.head()"
      ],
      "metadata": {
        "id": "PYxJ8bAM-U1b",
        "colab": {
          "base_uri": "https://localhost:8080/",
          "height": 206
        },
        "outputId": "2f1cedce-b4d7-4f1b-c63c-17e9cd7c57f0"
      },
      "id": "PYxJ8bAM-U1b",
      "execution_count": 2,
      "outputs": [
        {
          "output_type": "execute_result",
          "data": {
            "text/plain": [
              "      START_DATE*       END_DATE* CATEGORY*       START*            STOP*  \\\n",
              "0  1/1/2016 21:11  1/1/2016 21:17  Business  Fort Pierce      Fort Pierce   \n",
              "1   1/2/2016 1:25   1/2/2016 1:37  Business  Fort Pierce      Fort Pierce   \n",
              "2  1/2/2016 20:25  1/2/2016 20:38  Business  Fort Pierce      Fort Pierce   \n",
              "3  1/5/2016 17:31  1/5/2016 17:45  Business  Fort Pierce      Fort Pierce   \n",
              "4  1/6/2016 14:42  1/6/2016 15:49  Business  Fort Pierce  West Palm Beach   \n",
              "\n",
              "   MILES*         PURPOSE*  \n",
              "0     5.1   Meal/Entertain  \n",
              "1     5.0              NaN  \n",
              "2     4.8  Errand/Supplies  \n",
              "3     4.7          Meeting  \n",
              "4    63.7   Customer Visit  "
            ],
            "text/html": [
              "\n",
              "  <div id=\"df-18ccebaa-8228-4be3-8863-afcf21e27d9e\">\n",
              "    <div class=\"colab-df-container\">\n",
              "      <div>\n",
              "<style scoped>\n",
              "    .dataframe tbody tr th:only-of-type {\n",
              "        vertical-align: middle;\n",
              "    }\n",
              "\n",
              "    .dataframe tbody tr th {\n",
              "        vertical-align: top;\n",
              "    }\n",
              "\n",
              "    .dataframe thead th {\n",
              "        text-align: right;\n",
              "    }\n",
              "</style>\n",
              "<table border=\"1\" class=\"dataframe\">\n",
              "  <thead>\n",
              "    <tr style=\"text-align: right;\">\n",
              "      <th></th>\n",
              "      <th>START_DATE*</th>\n",
              "      <th>END_DATE*</th>\n",
              "      <th>CATEGORY*</th>\n",
              "      <th>START*</th>\n",
              "      <th>STOP*</th>\n",
              "      <th>MILES*</th>\n",
              "      <th>PURPOSE*</th>\n",
              "    </tr>\n",
              "  </thead>\n",
              "  <tbody>\n",
              "    <tr>\n",
              "      <th>0</th>\n",
              "      <td>1/1/2016 21:11</td>\n",
              "      <td>1/1/2016 21:17</td>\n",
              "      <td>Business</td>\n",
              "      <td>Fort Pierce</td>\n",
              "      <td>Fort Pierce</td>\n",
              "      <td>5.1</td>\n",
              "      <td>Meal/Entertain</td>\n",
              "    </tr>\n",
              "    <tr>\n",
              "      <th>1</th>\n",
              "      <td>1/2/2016 1:25</td>\n",
              "      <td>1/2/2016 1:37</td>\n",
              "      <td>Business</td>\n",
              "      <td>Fort Pierce</td>\n",
              "      <td>Fort Pierce</td>\n",
              "      <td>5.0</td>\n",
              "      <td>NaN</td>\n",
              "    </tr>\n",
              "    <tr>\n",
              "      <th>2</th>\n",
              "      <td>1/2/2016 20:25</td>\n",
              "      <td>1/2/2016 20:38</td>\n",
              "      <td>Business</td>\n",
              "      <td>Fort Pierce</td>\n",
              "      <td>Fort Pierce</td>\n",
              "      <td>4.8</td>\n",
              "      <td>Errand/Supplies</td>\n",
              "    </tr>\n",
              "    <tr>\n",
              "      <th>3</th>\n",
              "      <td>1/5/2016 17:31</td>\n",
              "      <td>1/5/2016 17:45</td>\n",
              "      <td>Business</td>\n",
              "      <td>Fort Pierce</td>\n",
              "      <td>Fort Pierce</td>\n",
              "      <td>4.7</td>\n",
              "      <td>Meeting</td>\n",
              "    </tr>\n",
              "    <tr>\n",
              "      <th>4</th>\n",
              "      <td>1/6/2016 14:42</td>\n",
              "      <td>1/6/2016 15:49</td>\n",
              "      <td>Business</td>\n",
              "      <td>Fort Pierce</td>\n",
              "      <td>West Palm Beach</td>\n",
              "      <td>63.7</td>\n",
              "      <td>Customer Visit</td>\n",
              "    </tr>\n",
              "  </tbody>\n",
              "</table>\n",
              "</div>\n",
              "      <button class=\"colab-df-convert\" onclick=\"convertToInteractive('df-18ccebaa-8228-4be3-8863-afcf21e27d9e')\"\n",
              "              title=\"Convert this dataframe to an interactive table.\"\n",
              "              style=\"display:none;\">\n",
              "        \n",
              "  <svg xmlns=\"http://www.w3.org/2000/svg\" height=\"24px\"viewBox=\"0 0 24 24\"\n",
              "       width=\"24px\">\n",
              "    <path d=\"M0 0h24v24H0V0z\" fill=\"none\"/>\n",
              "    <path d=\"M18.56 5.44l.94 2.06.94-2.06 2.06-.94-2.06-.94-.94-2.06-.94 2.06-2.06.94zm-11 1L8.5 8.5l.94-2.06 2.06-.94-2.06-.94L8.5 2.5l-.94 2.06-2.06.94zm10 10l.94 2.06.94-2.06 2.06-.94-2.06-.94-.94-2.06-.94 2.06-2.06.94z\"/><path d=\"M17.41 7.96l-1.37-1.37c-.4-.4-.92-.59-1.43-.59-.52 0-1.04.2-1.43.59L10.3 9.45l-7.72 7.72c-.78.78-.78 2.05 0 2.83L4 21.41c.39.39.9.59 1.41.59.51 0 1.02-.2 1.41-.59l7.78-7.78 2.81-2.81c.8-.78.8-2.07 0-2.86zM5.41 20L4 18.59l7.72-7.72 1.47 1.35L5.41 20z\"/>\n",
              "  </svg>\n",
              "      </button>\n",
              "      \n",
              "  <style>\n",
              "    .colab-df-container {\n",
              "      display:flex;\n",
              "      flex-wrap:wrap;\n",
              "      gap: 12px;\n",
              "    }\n",
              "\n",
              "    .colab-df-convert {\n",
              "      background-color: #E8F0FE;\n",
              "      border: none;\n",
              "      border-radius: 50%;\n",
              "      cursor: pointer;\n",
              "      display: none;\n",
              "      fill: #1967D2;\n",
              "      height: 32px;\n",
              "      padding: 0 0 0 0;\n",
              "      width: 32px;\n",
              "    }\n",
              "\n",
              "    .colab-df-convert:hover {\n",
              "      background-color: #E2EBFA;\n",
              "      box-shadow: 0px 1px 2px rgba(60, 64, 67, 0.3), 0px 1px 3px 1px rgba(60, 64, 67, 0.15);\n",
              "      fill: #174EA6;\n",
              "    }\n",
              "\n",
              "    [theme=dark] .colab-df-convert {\n",
              "      background-color: #3B4455;\n",
              "      fill: #D2E3FC;\n",
              "    }\n",
              "\n",
              "    [theme=dark] .colab-df-convert:hover {\n",
              "      background-color: #434B5C;\n",
              "      box-shadow: 0px 1px 3px 1px rgba(0, 0, 0, 0.15);\n",
              "      filter: drop-shadow(0px 1px 2px rgba(0, 0, 0, 0.3));\n",
              "      fill: #FFFFFF;\n",
              "    }\n",
              "  </style>\n",
              "\n",
              "      <script>\n",
              "        const buttonEl =\n",
              "          document.querySelector('#df-18ccebaa-8228-4be3-8863-afcf21e27d9e button.colab-df-convert');\n",
              "        buttonEl.style.display =\n",
              "          google.colab.kernel.accessAllowed ? 'block' : 'none';\n",
              "\n",
              "        async function convertToInteractive(key) {\n",
              "          const element = document.querySelector('#df-18ccebaa-8228-4be3-8863-afcf21e27d9e');\n",
              "          const dataTable =\n",
              "            await google.colab.kernel.invokeFunction('convertToInteractive',\n",
              "                                                     [key], {});\n",
              "          if (!dataTable) return;\n",
              "\n",
              "          const docLinkHtml = 'Like what you see? Visit the ' +\n",
              "            '<a target=\"_blank\" href=https://colab.research.google.com/notebooks/data_table.ipynb>data table notebook</a>'\n",
              "            + ' to learn more about interactive tables.';\n",
              "          element.innerHTML = '';\n",
              "          dataTable['output_type'] = 'display_data';\n",
              "          await google.colab.output.renderOutput(dataTable, element);\n",
              "          const docLink = document.createElement('div');\n",
              "          docLink.innerHTML = docLinkHtml;\n",
              "          element.appendChild(docLink);\n",
              "        }\n",
              "      </script>\n",
              "    </div>\n",
              "  </div>\n",
              "  "
            ]
          },
          "metadata": {},
          "execution_count": 2
        }
      ]
    },
    {
      "cell_type": "code",
      "execution_count": 3,
      "id": "320214c1",
      "metadata": {
        "execution": {
          "iopub.execute_input": "2021-08-11T17:29:00.441115Z",
          "iopub.status.busy": "2021-08-11T17:29:00.440317Z",
          "iopub.status.idle": "2021-08-11T17:29:00.443887Z",
          "shell.execute_reply": "2021-08-11T17:29:00.444635Z",
          "shell.execute_reply.started": "2021-08-11T17:22:07.463608Z"
        },
        "id": "320214c1",
        "outputId": "a8903605-f0f5-441e-c971-d66951db9e61",
        "papermill": {
          "duration": 0.079933,
          "end_time": "2021-08-11T17:29:00.444901",
          "exception": false,
          "start_time": "2021-08-11T17:29:00.364968",
          "status": "completed"
        },
        "tags": [],
        "colab": {
          "base_uri": "https://localhost:8080/"
        }
      },
      "outputs": [
        {
          "output_type": "stream",
          "name": "stdout",
          "text": [
            "<class 'pandas.core.frame.DataFrame'>\n",
            "RangeIndex: 1156 entries, 0 to 1155\n",
            "Data columns (total 7 columns):\n",
            " #   Column       Non-Null Count  Dtype  \n",
            "---  ------       --------------  -----  \n",
            " 0   START_DATE*  1156 non-null   object \n",
            " 1   END_DATE*    1155 non-null   object \n",
            " 2   CATEGORY*    1155 non-null   object \n",
            " 3   START*       1155 non-null   object \n",
            " 4   STOP*        1155 non-null   object \n",
            " 5   MILES*       1156 non-null   float64\n",
            " 6   PURPOSE*     653 non-null    object \n",
            "dtypes: float64(1), object(6)\n",
            "memory usage: 63.3+ KB\n"
          ]
        }
      ],
      "source": [
        "df.info()"
      ]
    },
    {
      "cell_type": "code",
      "execution_count": 4,
      "id": "aabad23f",
      "metadata": {
        "execution": {
          "iopub.execute_input": "2021-08-11T17:29:00.553875Z",
          "iopub.status.busy": "2021-08-11T17:29:00.553008Z",
          "iopub.status.idle": "2021-08-11T17:29:00.558294Z",
          "shell.execute_reply": "2021-08-11T17:29:00.557594Z",
          "shell.execute_reply.started": "2021-08-11T17:22:07.494456Z"
        },
        "id": "aabad23f",
        "outputId": "84b6a3ed-29a3-4846-a713-1dec3dce4549",
        "papermill": {
          "duration": 0.061372,
          "end_time": "2021-08-11T17:29:00.558485",
          "exception": false,
          "start_time": "2021-08-11T17:29:00.497113",
          "status": "completed"
        },
        "tags": [],
        "colab": {
          "base_uri": "https://localhost:8080/"
        }
      },
      "outputs": [
        {
          "output_type": "execute_result",
          "data": {
            "text/plain": [
              "(1156, 7)"
            ]
          },
          "metadata": {},
          "execution_count": 4
        }
      ],
      "source": [
        "df.shape"
      ]
    },
    {
      "cell_type": "code",
      "execution_count": 5,
      "id": "36c125e7",
      "metadata": {
        "execution": {
          "iopub.execute_input": "2021-08-11T17:29:00.673420Z",
          "iopub.status.busy": "2021-08-11T17:29:00.672682Z",
          "iopub.status.idle": "2021-08-11T17:29:00.688638Z",
          "shell.execute_reply": "2021-08-11T17:29:00.687890Z",
          "shell.execute_reply.started": "2021-08-11T17:22:07.506677Z"
        },
        "id": "36c125e7",
        "outputId": "0d75a725-b550-4af2-ad2d-8078bb5ef720",
        "papermill": {
          "duration": 0.077808,
          "end_time": "2021-08-11T17:29:00.688832",
          "exception": false,
          "start_time": "2021-08-11T17:29:00.611024",
          "status": "completed"
        },
        "tags": [],
        "colab": {
          "base_uri": "https://localhost:8080/",
          "height": 394
        }
      },
      "outputs": [
        {
          "output_type": "execute_result",
          "data": {
            "text/plain": [
              "            START_DATE*        END_DATE* CATEGORY* START* STOP*        MILES*  \\\n",
              "count              1156             1155      1155   1155  1155   1156.000000   \n",
              "unique             1155             1154         2    177   188           NaN   \n",
              "top     6/28/2016 23:34  6/28/2016 23:59  Business   Cary  Cary           NaN   \n",
              "freq                  2                2      1078    201   203           NaN   \n",
              "mean                NaN              NaN       NaN    NaN   NaN     21.115398   \n",
              "std                 NaN              NaN       NaN    NaN   NaN    359.299007   \n",
              "min                 NaN              NaN       NaN    NaN   NaN      0.500000   \n",
              "25%                 NaN              NaN       NaN    NaN   NaN      2.900000   \n",
              "50%                 NaN              NaN       NaN    NaN   NaN      6.000000   \n",
              "75%                 NaN              NaN       NaN    NaN   NaN     10.400000   \n",
              "max                 NaN              NaN       NaN    NaN   NaN  12204.700000   \n",
              "\n",
              "       PURPOSE*  \n",
              "count       653  \n",
              "unique       10  \n",
              "top     Meeting  \n",
              "freq        187  \n",
              "mean        NaN  \n",
              "std         NaN  \n",
              "min         NaN  \n",
              "25%         NaN  \n",
              "50%         NaN  \n",
              "75%         NaN  \n",
              "max         NaN  "
            ],
            "text/html": [
              "\n",
              "  <div id=\"df-7b04708f-69e7-4d2c-993e-6fb69981fba1\">\n",
              "    <div class=\"colab-df-container\">\n",
              "      <div>\n",
              "<style scoped>\n",
              "    .dataframe tbody tr th:only-of-type {\n",
              "        vertical-align: middle;\n",
              "    }\n",
              "\n",
              "    .dataframe tbody tr th {\n",
              "        vertical-align: top;\n",
              "    }\n",
              "\n",
              "    .dataframe thead th {\n",
              "        text-align: right;\n",
              "    }\n",
              "</style>\n",
              "<table border=\"1\" class=\"dataframe\">\n",
              "  <thead>\n",
              "    <tr style=\"text-align: right;\">\n",
              "      <th></th>\n",
              "      <th>START_DATE*</th>\n",
              "      <th>END_DATE*</th>\n",
              "      <th>CATEGORY*</th>\n",
              "      <th>START*</th>\n",
              "      <th>STOP*</th>\n",
              "      <th>MILES*</th>\n",
              "      <th>PURPOSE*</th>\n",
              "    </tr>\n",
              "  </thead>\n",
              "  <tbody>\n",
              "    <tr>\n",
              "      <th>count</th>\n",
              "      <td>1156</td>\n",
              "      <td>1155</td>\n",
              "      <td>1155</td>\n",
              "      <td>1155</td>\n",
              "      <td>1155</td>\n",
              "      <td>1156.000000</td>\n",
              "      <td>653</td>\n",
              "    </tr>\n",
              "    <tr>\n",
              "      <th>unique</th>\n",
              "      <td>1155</td>\n",
              "      <td>1154</td>\n",
              "      <td>2</td>\n",
              "      <td>177</td>\n",
              "      <td>188</td>\n",
              "      <td>NaN</td>\n",
              "      <td>10</td>\n",
              "    </tr>\n",
              "    <tr>\n",
              "      <th>top</th>\n",
              "      <td>6/28/2016 23:34</td>\n",
              "      <td>6/28/2016 23:59</td>\n",
              "      <td>Business</td>\n",
              "      <td>Cary</td>\n",
              "      <td>Cary</td>\n",
              "      <td>NaN</td>\n",
              "      <td>Meeting</td>\n",
              "    </tr>\n",
              "    <tr>\n",
              "      <th>freq</th>\n",
              "      <td>2</td>\n",
              "      <td>2</td>\n",
              "      <td>1078</td>\n",
              "      <td>201</td>\n",
              "      <td>203</td>\n",
              "      <td>NaN</td>\n",
              "      <td>187</td>\n",
              "    </tr>\n",
              "    <tr>\n",
              "      <th>mean</th>\n",
              "      <td>NaN</td>\n",
              "      <td>NaN</td>\n",
              "      <td>NaN</td>\n",
              "      <td>NaN</td>\n",
              "      <td>NaN</td>\n",
              "      <td>21.115398</td>\n",
              "      <td>NaN</td>\n",
              "    </tr>\n",
              "    <tr>\n",
              "      <th>std</th>\n",
              "      <td>NaN</td>\n",
              "      <td>NaN</td>\n",
              "      <td>NaN</td>\n",
              "      <td>NaN</td>\n",
              "      <td>NaN</td>\n",
              "      <td>359.299007</td>\n",
              "      <td>NaN</td>\n",
              "    </tr>\n",
              "    <tr>\n",
              "      <th>min</th>\n",
              "      <td>NaN</td>\n",
              "      <td>NaN</td>\n",
              "      <td>NaN</td>\n",
              "      <td>NaN</td>\n",
              "      <td>NaN</td>\n",
              "      <td>0.500000</td>\n",
              "      <td>NaN</td>\n",
              "    </tr>\n",
              "    <tr>\n",
              "      <th>25%</th>\n",
              "      <td>NaN</td>\n",
              "      <td>NaN</td>\n",
              "      <td>NaN</td>\n",
              "      <td>NaN</td>\n",
              "      <td>NaN</td>\n",
              "      <td>2.900000</td>\n",
              "      <td>NaN</td>\n",
              "    </tr>\n",
              "    <tr>\n",
              "      <th>50%</th>\n",
              "      <td>NaN</td>\n",
              "      <td>NaN</td>\n",
              "      <td>NaN</td>\n",
              "      <td>NaN</td>\n",
              "      <td>NaN</td>\n",
              "      <td>6.000000</td>\n",
              "      <td>NaN</td>\n",
              "    </tr>\n",
              "    <tr>\n",
              "      <th>75%</th>\n",
              "      <td>NaN</td>\n",
              "      <td>NaN</td>\n",
              "      <td>NaN</td>\n",
              "      <td>NaN</td>\n",
              "      <td>NaN</td>\n",
              "      <td>10.400000</td>\n",
              "      <td>NaN</td>\n",
              "    </tr>\n",
              "    <tr>\n",
              "      <th>max</th>\n",
              "      <td>NaN</td>\n",
              "      <td>NaN</td>\n",
              "      <td>NaN</td>\n",
              "      <td>NaN</td>\n",
              "      <td>NaN</td>\n",
              "      <td>12204.700000</td>\n",
              "      <td>NaN</td>\n",
              "    </tr>\n",
              "  </tbody>\n",
              "</table>\n",
              "</div>\n",
              "      <button class=\"colab-df-convert\" onclick=\"convertToInteractive('df-7b04708f-69e7-4d2c-993e-6fb69981fba1')\"\n",
              "              title=\"Convert this dataframe to an interactive table.\"\n",
              "              style=\"display:none;\">\n",
              "        \n",
              "  <svg xmlns=\"http://www.w3.org/2000/svg\" height=\"24px\"viewBox=\"0 0 24 24\"\n",
              "       width=\"24px\">\n",
              "    <path d=\"M0 0h24v24H0V0z\" fill=\"none\"/>\n",
              "    <path d=\"M18.56 5.44l.94 2.06.94-2.06 2.06-.94-2.06-.94-.94-2.06-.94 2.06-2.06.94zm-11 1L8.5 8.5l.94-2.06 2.06-.94-2.06-.94L8.5 2.5l-.94 2.06-2.06.94zm10 10l.94 2.06.94-2.06 2.06-.94-2.06-.94-.94-2.06-.94 2.06-2.06.94z\"/><path d=\"M17.41 7.96l-1.37-1.37c-.4-.4-.92-.59-1.43-.59-.52 0-1.04.2-1.43.59L10.3 9.45l-7.72 7.72c-.78.78-.78 2.05 0 2.83L4 21.41c.39.39.9.59 1.41.59.51 0 1.02-.2 1.41-.59l7.78-7.78 2.81-2.81c.8-.78.8-2.07 0-2.86zM5.41 20L4 18.59l7.72-7.72 1.47 1.35L5.41 20z\"/>\n",
              "  </svg>\n",
              "      </button>\n",
              "      \n",
              "  <style>\n",
              "    .colab-df-container {\n",
              "      display:flex;\n",
              "      flex-wrap:wrap;\n",
              "      gap: 12px;\n",
              "    }\n",
              "\n",
              "    .colab-df-convert {\n",
              "      background-color: #E8F0FE;\n",
              "      border: none;\n",
              "      border-radius: 50%;\n",
              "      cursor: pointer;\n",
              "      display: none;\n",
              "      fill: #1967D2;\n",
              "      height: 32px;\n",
              "      padding: 0 0 0 0;\n",
              "      width: 32px;\n",
              "    }\n",
              "\n",
              "    .colab-df-convert:hover {\n",
              "      background-color: #E2EBFA;\n",
              "      box-shadow: 0px 1px 2px rgba(60, 64, 67, 0.3), 0px 1px 3px 1px rgba(60, 64, 67, 0.15);\n",
              "      fill: #174EA6;\n",
              "    }\n",
              "\n",
              "    [theme=dark] .colab-df-convert {\n",
              "      background-color: #3B4455;\n",
              "      fill: #D2E3FC;\n",
              "    }\n",
              "\n",
              "    [theme=dark] .colab-df-convert:hover {\n",
              "      background-color: #434B5C;\n",
              "      box-shadow: 0px 1px 3px 1px rgba(0, 0, 0, 0.15);\n",
              "      filter: drop-shadow(0px 1px 2px rgba(0, 0, 0, 0.3));\n",
              "      fill: #FFFFFF;\n",
              "    }\n",
              "  </style>\n",
              "\n",
              "      <script>\n",
              "        const buttonEl =\n",
              "          document.querySelector('#df-7b04708f-69e7-4d2c-993e-6fb69981fba1 button.colab-df-convert');\n",
              "        buttonEl.style.display =\n",
              "          google.colab.kernel.accessAllowed ? 'block' : 'none';\n",
              "\n",
              "        async function convertToInteractive(key) {\n",
              "          const element = document.querySelector('#df-7b04708f-69e7-4d2c-993e-6fb69981fba1');\n",
              "          const dataTable =\n",
              "            await google.colab.kernel.invokeFunction('convertToInteractive',\n",
              "                                                     [key], {});\n",
              "          if (!dataTable) return;\n",
              "\n",
              "          const docLinkHtml = 'Like what you see? Visit the ' +\n",
              "            '<a target=\"_blank\" href=https://colab.research.google.com/notebooks/data_table.ipynb>data table notebook</a>'\n",
              "            + ' to learn more about interactive tables.';\n",
              "          element.innerHTML = '';\n",
              "          dataTable['output_type'] = 'display_data';\n",
              "          await google.colab.output.renderOutput(dataTable, element);\n",
              "          const docLink = document.createElement('div');\n",
              "          docLink.innerHTML = docLinkHtml;\n",
              "          element.appendChild(docLink);\n",
              "        }\n",
              "      </script>\n",
              "    </div>\n",
              "  </div>\n",
              "  "
            ]
          },
          "metadata": {},
          "execution_count": 5
        }
      ],
      "source": [
        "df.describe(include='all')"
      ]
    },
    {
      "cell_type": "markdown",
      "id": "87611f86",
      "metadata": {
        "id": "87611f86",
        "papermill": {
          "duration": 0.051143,
          "end_time": "2021-08-11T17:29:00.791648",
          "exception": false,
          "start_time": "2021-08-11T17:29:00.740505",
          "status": "completed"
        },
        "tags": []
      },
      "source": [
        "## PREPROCESSING"
      ]
    },
    {
      "cell_type": "code",
      "execution_count": 6,
      "id": "df7471c2",
      "metadata": {
        "execution": {
          "iopub.execute_input": "2021-08-11T17:29:00.309379Z",
          "iopub.status.busy": "2021-08-11T17:29:00.308270Z",
          "iopub.status.idle": "2021-08-11T17:29:00.313106Z",
          "shell.execute_reply": "2021-08-11T17:29:00.312495Z",
          "shell.execute_reply.started": "2021-08-11T17:22:07.442999Z"
        },
        "id": "df7471c2",
        "outputId": "614dd8b0-ceba-48a7-a58d-1b79e401b625",
        "papermill": {
          "duration": 0.069003,
          "end_time": "2021-08-11T17:29:00.313270",
          "exception": false,
          "start_time": "2021-08-11T17:29:00.244267",
          "status": "completed"
        },
        "tags": [],
        "colab": {
          "base_uri": "https://localhost:8080/",
          "height": 137
        }
      },
      "outputs": [
        {
          "output_type": "stream",
          "name": "stderr",
          "text": [
            "<ipython-input-6-e87dd9445b50>:2: FutureWarning: The default value of regex will change from True to False in a future version. In addition, single character regular expressions will *not* be treated as literal strings when regex=True.\n",
            "  df.columns = df.columns.str.replace(\"*\",\"\")\n"
          ]
        },
        {
          "output_type": "execute_result",
          "data": {
            "text/plain": [
              "       START_DATE        END_DATE  CATEGORY        START         STOP  MILES  \\\n",
              "0  1/1/2016 21:11  1/1/2016 21:17  Business  Fort Pierce  Fort Pierce    5.1   \n",
              "\n",
              "          PURPOSE  \n",
              "0  Meal/Entertain  "
            ],
            "text/html": [
              "\n",
              "  <div id=\"df-cf26559a-6e05-401f-bc20-24a87e5ea23d\">\n",
              "    <div class=\"colab-df-container\">\n",
              "      <div>\n",
              "<style scoped>\n",
              "    .dataframe tbody tr th:only-of-type {\n",
              "        vertical-align: middle;\n",
              "    }\n",
              "\n",
              "    .dataframe tbody tr th {\n",
              "        vertical-align: top;\n",
              "    }\n",
              "\n",
              "    .dataframe thead th {\n",
              "        text-align: right;\n",
              "    }\n",
              "</style>\n",
              "<table border=\"1\" class=\"dataframe\">\n",
              "  <thead>\n",
              "    <tr style=\"text-align: right;\">\n",
              "      <th></th>\n",
              "      <th>START_DATE</th>\n",
              "      <th>END_DATE</th>\n",
              "      <th>CATEGORY</th>\n",
              "      <th>START</th>\n",
              "      <th>STOP</th>\n",
              "      <th>MILES</th>\n",
              "      <th>PURPOSE</th>\n",
              "    </tr>\n",
              "  </thead>\n",
              "  <tbody>\n",
              "    <tr>\n",
              "      <th>0</th>\n",
              "      <td>1/1/2016 21:11</td>\n",
              "      <td>1/1/2016 21:17</td>\n",
              "      <td>Business</td>\n",
              "      <td>Fort Pierce</td>\n",
              "      <td>Fort Pierce</td>\n",
              "      <td>5.1</td>\n",
              "      <td>Meal/Entertain</td>\n",
              "    </tr>\n",
              "  </tbody>\n",
              "</table>\n",
              "</div>\n",
              "      <button class=\"colab-df-convert\" onclick=\"convertToInteractive('df-cf26559a-6e05-401f-bc20-24a87e5ea23d')\"\n",
              "              title=\"Convert this dataframe to an interactive table.\"\n",
              "              style=\"display:none;\">\n",
              "        \n",
              "  <svg xmlns=\"http://www.w3.org/2000/svg\" height=\"24px\"viewBox=\"0 0 24 24\"\n",
              "       width=\"24px\">\n",
              "    <path d=\"M0 0h24v24H0V0z\" fill=\"none\"/>\n",
              "    <path d=\"M18.56 5.44l.94 2.06.94-2.06 2.06-.94-2.06-.94-.94-2.06-.94 2.06-2.06.94zm-11 1L8.5 8.5l.94-2.06 2.06-.94-2.06-.94L8.5 2.5l-.94 2.06-2.06.94zm10 10l.94 2.06.94-2.06 2.06-.94-2.06-.94-.94-2.06-.94 2.06-2.06.94z\"/><path d=\"M17.41 7.96l-1.37-1.37c-.4-.4-.92-.59-1.43-.59-.52 0-1.04.2-1.43.59L10.3 9.45l-7.72 7.72c-.78.78-.78 2.05 0 2.83L4 21.41c.39.39.9.59 1.41.59.51 0 1.02-.2 1.41-.59l7.78-7.78 2.81-2.81c.8-.78.8-2.07 0-2.86zM5.41 20L4 18.59l7.72-7.72 1.47 1.35L5.41 20z\"/>\n",
              "  </svg>\n",
              "      </button>\n",
              "      \n",
              "  <style>\n",
              "    .colab-df-container {\n",
              "      display:flex;\n",
              "      flex-wrap:wrap;\n",
              "      gap: 12px;\n",
              "    }\n",
              "\n",
              "    .colab-df-convert {\n",
              "      background-color: #E8F0FE;\n",
              "      border: none;\n",
              "      border-radius: 50%;\n",
              "      cursor: pointer;\n",
              "      display: none;\n",
              "      fill: #1967D2;\n",
              "      height: 32px;\n",
              "      padding: 0 0 0 0;\n",
              "      width: 32px;\n",
              "    }\n",
              "\n",
              "    .colab-df-convert:hover {\n",
              "      background-color: #E2EBFA;\n",
              "      box-shadow: 0px 1px 2px rgba(60, 64, 67, 0.3), 0px 1px 3px 1px rgba(60, 64, 67, 0.15);\n",
              "      fill: #174EA6;\n",
              "    }\n",
              "\n",
              "    [theme=dark] .colab-df-convert {\n",
              "      background-color: #3B4455;\n",
              "      fill: #D2E3FC;\n",
              "    }\n",
              "\n",
              "    [theme=dark] .colab-df-convert:hover {\n",
              "      background-color: #434B5C;\n",
              "      box-shadow: 0px 1px 3px 1px rgba(0, 0, 0, 0.15);\n",
              "      filter: drop-shadow(0px 1px 2px rgba(0, 0, 0, 0.3));\n",
              "      fill: #FFFFFF;\n",
              "    }\n",
              "  </style>\n",
              "\n",
              "      <script>\n",
              "        const buttonEl =\n",
              "          document.querySelector('#df-cf26559a-6e05-401f-bc20-24a87e5ea23d button.colab-df-convert');\n",
              "        buttonEl.style.display =\n",
              "          google.colab.kernel.accessAllowed ? 'block' : 'none';\n",
              "\n",
              "        async function convertToInteractive(key) {\n",
              "          const element = document.querySelector('#df-cf26559a-6e05-401f-bc20-24a87e5ea23d');\n",
              "          const dataTable =\n",
              "            await google.colab.kernel.invokeFunction('convertToInteractive',\n",
              "                                                     [key], {});\n",
              "          if (!dataTable) return;\n",
              "\n",
              "          const docLinkHtml = 'Like what you see? Visit the ' +\n",
              "            '<a target=\"_blank\" href=https://colab.research.google.com/notebooks/data_table.ipynb>data table notebook</a>'\n",
              "            + ' to learn more about interactive tables.';\n",
              "          element.innerHTML = '';\n",
              "          dataTable['output_type'] = 'display_data';\n",
              "          await google.colab.output.renderOutput(dataTable, element);\n",
              "          const docLink = document.createElement('div');\n",
              "          docLink.innerHTML = docLinkHtml;\n",
              "          element.appendChild(docLink);\n",
              "        }\n",
              "      </script>\n",
              "    </div>\n",
              "  </div>\n",
              "  "
            ]
          },
          "metadata": {},
          "execution_count": 6
        }
      ],
      "source": [
        "#removing * from columns\n",
        "df.columns = df.columns.str.replace(\"*\",\"\")\n",
        "df.head(1)"
      ]
    },
    {
      "cell_type": "code",
      "execution_count": 7,
      "id": "d93bdb47",
      "metadata": {
        "execution": {
          "iopub.execute_input": "2021-08-11T17:29:00.909261Z",
          "iopub.status.busy": "2021-08-11T17:29:00.908335Z",
          "iopub.status.idle": "2021-08-11T17:29:00.913116Z",
          "shell.execute_reply": "2021-08-11T17:29:00.912557Z",
          "shell.execute_reply.started": "2021-08-11T17:22:07.539427Z"
        },
        "id": "d93bdb47",
        "outputId": "4bf86f89-5680-4e17-89a3-8293c23ffa1e",
        "papermill": {
          "duration": 0.066004,
          "end_time": "2021-08-11T17:29:00.913283",
          "exception": false,
          "start_time": "2021-08-11T17:29:00.847279",
          "status": "completed"
        },
        "tags": [],
        "colab": {
          "base_uri": "https://localhost:8080/"
        }
      },
      "outputs": [
        {
          "output_type": "execute_result",
          "data": {
            "text/plain": [
              "START_DATE      0\n",
              "END_DATE        1\n",
              "CATEGORY        1\n",
              "START           1\n",
              "STOP            1\n",
              "MILES           0\n",
              "PURPOSE       503\n",
              "dtype: int64"
            ]
          },
          "metadata": {},
          "execution_count": 7
        }
      ],
      "source": [
        "df.isnull().sum()"
      ]
    },
    {
      "cell_type": "code",
      "source": [
        "for i in df.columns:\n",
        "  print(df[df[i].isnull()].index.tolist())"
      ],
      "metadata": {
        "colab": {
          "base_uri": "https://localhost:8080/"
        },
        "id": "efGBMNCvxBrd",
        "outputId": "c46c725c-df3d-4956-8452-d0865b99c33b"
      },
      "id": "efGBMNCvxBrd",
      "execution_count": 8,
      "outputs": [
        {
          "output_type": "stream",
          "name": "stdout",
          "text": [
            "[]\n",
            "[1155]\n",
            "[1155]\n",
            "[1155]\n",
            "[1155]\n",
            "[]\n",
            "[1, 32, 85, 86, 87, 88, 89, 102, 103, 109, 110, 111, 112, 114, 129, 130, 132, 133, 134, 135, 136, 137, 138, 139, 141, 144, 153, 156, 162, 163, 166, 167, 168, 171, 174, 178, 194, 195, 206, 209, 210, 212, 213, 214, 215, 216, 217, 223, 225, 229, 231, 235, 236, 237, 249, 254, 255, 257, 259, 262, 263, 264, 265, 266, 267, 271, 272, 273, 277, 278, 279, 280, 281, 282, 283, 284, 285, 292, 293, 294, 342, 344, 384, 391, 428, 439, 446, 448, 449, 450, 451, 452, 453, 454, 455, 456, 457, 465, 466, 472, 473, 475, 476, 477, 478, 479, 480, 481, 482, 483, 484, 485, 486, 487, 488, 493, 494, 495, 496, 517, 518, 521, 525, 526, 527, 528, 529, 530, 531, 532, 533, 534, 535, 536, 537, 538, 539, 540, 541, 542, 543, 544, 546, 547, 548, 549, 550, 551, 552, 553, 554, 555, 556, 573, 574, 575, 576, 577, 578, 579, 580, 581, 582, 583, 584, 587, 588, 589, 590, 591, 592, 595, 596, 597, 598, 599, 600, 603, 604, 605, 606, 607, 609, 610, 611, 612, 613, 614, 615, 616, 617, 618, 619, 621, 622, 623, 624, 625, 626, 627, 628, 629, 630, 631, 632, 634, 636, 637, 639, 641, 642, 643, 644, 645, 646, 647, 648, 649, 650, 651, 652, 653, 654, 656, 657, 658, 660, 661, 662, 663, 664, 666, 667, 668, 669, 670, 671, 672, 673, 676, 677, 678, 679, 680, 681, 682, 684, 685, 686, 687, 688, 689, 690, 691, 692, 693, 694, 695, 696, 697, 698, 699, 700, 701, 702, 703, 704, 705, 706, 707, 708, 709, 710, 711, 712, 713, 714, 715, 716, 717, 718, 719, 720, 721, 722, 723, 724, 725, 726, 727, 728, 729, 730, 731, 732, 733, 734, 736, 737, 738, 739, 740, 741, 742, 743, 744, 745, 746, 747, 748, 749, 750, 751, 752, 753, 754, 755, 756, 757, 758, 759, 760, 761, 762, 763, 764, 765, 766, 767, 768, 769, 770, 771, 772, 773, 774, 775, 776, 777, 778, 779, 780, 781, 782, 783, 784, 785, 786, 787, 788, 789, 790, 791, 792, 793, 794, 795, 796, 797, 798, 799, 801, 802, 804, 805, 806, 807, 808, 809, 810, 811, 812, 814, 815, 817, 818, 820, 822, 823, 824, 825, 826, 827, 828, 830, 831, 832, 833, 834, 835, 836, 837, 838, 839, 840, 841, 842, 843, 844, 845, 846, 847, 848, 851, 852, 853, 854, 855, 856, 858, 861, 863, 864, 865, 866, 873, 874, 875, 876, 877, 878, 879, 880, 881, 882, 883, 884, 885, 887, 888, 889, 890, 891, 893, 894, 896, 897, 898, 899, 900, 901, 905, 906, 907, 908, 909, 910, 911, 914, 915, 920, 921, 922, 923, 924, 925, 928, 929, 931, 932, 935, 937, 938, 940, 941, 942, 943, 944, 945, 947, 948, 950, 951, 952, 953, 955, 956, 957, 958, 959, 962, 964, 975, 976, 994, 995, 996, 999, 1005, 1008, 1018, 1022, 1050, 1051, 1059, 1063, 1064, 1065, 1066, 1069, 1071, 1143, 1155]\n"
          ]
        }
      ]
    },
    {
      "cell_type": "code",
      "execution_count": 9,
      "id": "6a736d1f",
      "metadata": {
        "execution": {
          "iopub.execute_input": "2021-08-11T17:29:02.288710Z",
          "iopub.status.busy": "2021-08-11T17:29:02.288019Z",
          "iopub.status.idle": "2021-08-11T17:29:02.291309Z",
          "shell.execute_reply": "2021-08-11T17:29:02.290743Z",
          "shell.execute_reply.started": "2021-08-11T17:22:08.640785Z"
        },
        "id": "6a736d1f",
        "papermill": {
          "duration": 0.064817,
          "end_time": "2021-08-11T17:29:02.291515",
          "exception": false,
          "start_time": "2021-08-11T17:29:02.226698",
          "status": "completed"
        },
        "tags": []
      },
      "outputs": [],
      "source": [
        "df.drop(index = 1155, axis = 0, inplace = True)"
      ]
    },
    {
      "cell_type": "code",
      "execution_count": 10,
      "id": "ce6d2210",
      "metadata": {
        "execution": {
          "iopub.execute_input": "2021-08-11T17:29:02.410402Z",
          "iopub.status.busy": "2021-08-11T17:29:02.409549Z",
          "iopub.status.idle": "2021-08-11T17:29:02.412676Z",
          "shell.execute_reply": "2021-08-11T17:29:02.413197Z",
          "shell.execute_reply.started": "2021-08-11T17:22:08.655696Z"
        },
        "id": "ce6d2210",
        "outputId": "989a00b7-3e0a-4475-8d77-583854dd5d3c",
        "papermill": {
          "duration": 0.067827,
          "end_time": "2021-08-11T17:29:02.413396",
          "exception": false,
          "start_time": "2021-08-11T17:29:02.345569",
          "status": "completed"
        },
        "tags": [],
        "colab": {
          "base_uri": "https://localhost:8080/"
        }
      },
      "outputs": [
        {
          "output_type": "execute_result",
          "data": {
            "text/plain": [
              "START_DATE      0\n",
              "END_DATE        0\n",
              "CATEGORY        0\n",
              "START           0\n",
              "STOP            0\n",
              "MILES           0\n",
              "PURPOSE       502\n",
              "dtype: int64"
            ]
          },
          "metadata": {},
          "execution_count": 10
        }
      ],
      "source": [
        "df.isnull().sum()"
      ]
    },
    {
      "cell_type": "code",
      "execution_count": 11,
      "id": "2db28b95",
      "metadata": {
        "execution": {
          "iopub.execute_input": "2021-08-11T17:29:02.525689Z",
          "iopub.status.busy": "2021-08-11T17:29:02.525048Z",
          "iopub.status.idle": "2021-08-11T17:29:02.532397Z",
          "shell.execute_reply": "2021-08-11T17:29:02.531662Z",
          "shell.execute_reply.started": "2021-08-11T17:22:08.675524Z"
        },
        "id": "2db28b95",
        "outputId": "79889f8d-f6b0-4483-b336-7857ec68e6fb",
        "papermill": {
          "duration": 0.06489,
          "end_time": "2021-08-11T17:29:02.532564",
          "exception": false,
          "start_time": "2021-08-11T17:29:02.467674",
          "status": "completed"
        },
        "tags": [],
        "colab": {
          "base_uri": "https://localhost:8080/"
        }
      },
      "outputs": [
        {
          "output_type": "execute_result",
          "data": {
            "text/plain": [
              "43.46320346320346"
            ]
          },
          "metadata": {},
          "execution_count": 11
        }
      ],
      "source": [
        "#percentage of null value present in purpose column\n",
        "df['PURPOSE'].isnull().sum()/len(df)*100"
      ]
    },
    {
      "cell_type": "code",
      "execution_count": 12,
      "id": "79037df7",
      "metadata": {
        "execution": {
          "iopub.execute_input": "2021-08-11T17:29:02.647974Z",
          "iopub.status.busy": "2021-08-11T17:29:02.647322Z",
          "iopub.status.idle": "2021-08-11T17:29:02.657699Z",
          "shell.execute_reply": "2021-08-11T17:29:02.656947Z",
          "shell.execute_reply.started": "2021-08-11T17:22:08.687865Z"
        },
        "id": "79037df7",
        "papermill": {
          "duration": 0.069539,
          "end_time": "2021-08-11T17:29:02.657864",
          "exception": false,
          "start_time": "2021-08-11T17:29:02.588325",
          "status": "completed"
        },
        "tags": []
      },
      "outputs": [],
      "source": [
        "#Since the number of null values in the purpose column is less than 50%\n",
        "#filling the values in purpose with forward fill (since it is a time series data)\n",
        "df['PURPOSE'].fillna(method = 'ffill',inplace = True)"
      ]
    },
    {
      "cell_type": "code",
      "execution_count": 13,
      "id": "1af6cfa3",
      "metadata": {
        "execution": {
          "iopub.execute_input": "2021-08-11T17:29:02.771400Z",
          "iopub.status.busy": "2021-08-11T17:29:02.770662Z",
          "iopub.status.idle": "2021-08-11T17:29:02.780928Z",
          "shell.execute_reply": "2021-08-11T17:29:02.780155Z",
          "shell.execute_reply.started": "2021-08-11T17:22:08.704962Z"
        },
        "id": "1af6cfa3",
        "outputId": "a6b0689d-70e0-4d62-cff0-75df8f9bd779",
        "papermill": {
          "duration": 0.067969,
          "end_time": "2021-08-11T17:29:02.781115",
          "exception": false,
          "start_time": "2021-08-11T17:29:02.713146",
          "status": "completed"
        },
        "tags": [],
        "colab": {
          "base_uri": "https://localhost:8080/"
        }
      },
      "outputs": [
        {
          "output_type": "execute_result",
          "data": {
            "text/plain": [
              "START_DATE    0\n",
              "END_DATE      0\n",
              "CATEGORY      0\n",
              "START         0\n",
              "STOP          0\n",
              "MILES         0\n",
              "PURPOSE       0\n",
              "dtype: int64"
            ]
          },
          "metadata": {},
          "execution_count": 13
        }
      ],
      "source": [
        "df.isnull().sum()"
      ]
    },
    {
      "cell_type": "code",
      "execution_count": 14,
      "id": "9fe02716",
      "metadata": {
        "execution": {
          "iopub.execute_input": "2021-08-11T17:29:03.030733Z",
          "iopub.status.busy": "2021-08-11T17:29:03.025893Z",
          "iopub.status.idle": "2021-08-11T17:29:03.262109Z",
          "shell.execute_reply": "2021-08-11T17:29:03.261440Z",
          "shell.execute_reply.started": "2021-08-11T17:22:08.726869Z"
        },
        "id": "9fe02716",
        "outputId": "7e32be62-3372-4192-aad3-61059d95f9dd",
        "papermill": {
          "duration": 0.310985,
          "end_time": "2021-08-11T17:29:03.262272",
          "exception": false,
          "start_time": "2021-08-11T17:29:02.951287",
          "status": "completed"
        },
        "tags": [],
        "colab": {
          "base_uri": "https://localhost:8080/"
        }
      },
      "outputs": [
        {
          "output_type": "stream",
          "name": "stdout",
          "text": [
            "<class 'pandas.core.frame.DataFrame'>\n",
            "Int64Index: 1155 entries, 0 to 1154\n",
            "Data columns (total 7 columns):\n",
            " #   Column      Non-Null Count  Dtype         \n",
            "---  ------      --------------  -----         \n",
            " 0   START_DATE  1155 non-null   datetime64[ns]\n",
            " 1   END_DATE    1155 non-null   datetime64[ns]\n",
            " 2   CATEGORY    1155 non-null   object        \n",
            " 3   START       1155 non-null   object        \n",
            " 4   STOP        1155 non-null   object        \n",
            " 5   MILES       1155 non-null   float64       \n",
            " 6   PURPOSE     1155 non-null   object        \n",
            "dtypes: datetime64[ns](2), float64(1), object(4)\n",
            "memory usage: 72.2+ KB\n"
          ]
        }
      ],
      "source": [
        "df['START_DATE'] = pd.to_datetime(df['START_DATE'], errors='coerce')\n",
        "df['END_DATE'] = pd.to_datetime(df['END_DATE'], errors='coerce')\n",
        "df.info()"
      ]
    },
    {
      "cell_type": "code",
      "source": [
        "df['START']=df['START'].str.replace('?', 'a')\n",
        "df['STOP']=df['STOP'].str.replace('?', 'a')"
      ],
      "metadata": {
        "colab": {
          "base_uri": "https://localhost:8080/"
        },
        "id": "SdwLOdSWSGyp",
        "outputId": "f10c9286-1902-4564-b6f7-1d0c12c94c0c"
      },
      "id": "SdwLOdSWSGyp",
      "execution_count": 15,
      "outputs": [
        {
          "output_type": "stream",
          "name": "stderr",
          "text": [
            "<ipython-input-15-ebef10a6a605>:1: FutureWarning: The default value of regex will change from True to False in a future version. In addition, single character regular expressions will *not* be treated as literal strings when regex=True.\n",
            "  df['START']=df['START'].str.replace('?', 'a')\n",
            "<ipython-input-15-ebef10a6a605>:2: FutureWarning: The default value of regex will change from True to False in a future version. In addition, single character regular expressions will *not* be treated as literal strings when regex=True.\n",
            "  df['STOP']=df['STOP'].str.replace('?', 'a')\n"
          ]
        }
      ]
    },
    {
      "cell_type": "markdown",
      "source": [
        "## VISUALISATIONS"
      ],
      "metadata": {
        "id": "HYgZfauaJl2N"
      },
      "id": "HYgZfauaJl2N"
    },
    {
      "cell_type": "markdown",
      "source": [
        "### START POINTS & STOP POINTS"
      ],
      "metadata": {
        "id": "2Yu76A8VLnnY"
      },
      "id": "2Yu76A8VLnnY"
    },
    {
      "cell_type": "code",
      "execution_count": 16,
      "id": "efcf240b",
      "metadata": {
        "execution": {
          "iopub.execute_input": "2021-08-11T17:29:03.775209Z",
          "iopub.status.busy": "2021-08-11T17:29:03.772659Z",
          "iopub.status.idle": "2021-08-11T17:29:04.144847Z",
          "shell.execute_reply": "2021-08-11T17:29:04.144257Z",
          "shell.execute_reply.started": "2021-08-11T17:22:09.305088Z"
        },
        "id": "efcf240b",
        "outputId": "c47a428b-7f30-4536-ff46-b2acbe8415d7",
        "papermill": {
          "duration": 0.455798,
          "end_time": "2021-08-11T17:29:04.145005",
          "exception": false,
          "start_time": "2021-08-11T17:29:03.689207",
          "status": "completed"
        },
        "tags": [],
        "colab": {
          "base_uri": "https://localhost:8080/",
          "height": 313
        }
      },
      "outputs": [
        {
          "output_type": "display_data",
          "data": {
            "text/plain": [
              "<Figure size 432x288 with 1 Axes>"
            ],
            "image/png": "[encoded data removed]"
          },
          "metadata": {}
        }
      ],
      "source": [
        "start_point = df.START.value_counts()\n",
        "start_point_value=start_point[start_point>10]\n",
        "pie=plt.pie(start_point_value,labels = start_point_value.index, shadow = True, startangle = 190)\n",
        "plt.tight_layout()\n",
        "plt.title(\"Start location\")\n",
        "plt.show()"
      ]
    },
    {
      "cell_type": "markdown",
      "id": "8d0b75f4",
      "metadata": {
        "id": "8d0b75f4",
        "papermill": {
          "duration": 0.059122,
          "end_time": "2021-08-11T17:29:04.262630",
          "exception": false,
          "start_time": "2021-08-11T17:29:04.203508",
          "status": "completed"
        },
        "tags": []
      },
      "source": [
        "According to above pie chart, Start location are more in Cary, Morrisville, Whitebridge and Islamabad, While there are some unknown locations which are grouped together."
      ]
    },
    {
      "cell_type": "code",
      "execution_count": 17,
      "id": "5cf37b09",
      "metadata": {
        "execution": {
          "iopub.execute_input": "2021-08-11T17:29:04.502590Z",
          "iopub.status.busy": "2021-08-11T17:29:04.500963Z",
          "iopub.status.idle": "2021-08-11T17:29:04.506636Z",
          "shell.execute_reply": "2021-08-11T17:29:04.505932Z",
          "shell.execute_reply.started": "2021-08-11T17:22:09.74773Z"
        },
        "id": "5cf37b09",
        "papermill": {
          "duration": 0.070114,
          "end_time": "2021-08-11T17:29:04.506804",
          "exception": false,
          "start_time": "2021-08-11T17:29:04.436690",
          "status": "completed"
        },
        "tags": [],
        "colab": {
          "base_uri": "https://localhost:8080/"
        },
        "outputId": "7c04f191-50e8-4a28-b20f-979232fa76a7"
      },
      "outputs": [
        {
          "output_type": "execute_result",
          "data": {
            "text/plain": [
              "Downtown             9\n",
              "Colombo              8\n",
              "San Francisco        8\n",
              "Orlando              8\n",
              "Edgehill Farms       8\n",
              "                    ..\n",
              "Ridgeland            1\n",
              "Daytona Beach        1\n",
              "Sky Lake             1\n",
              "Sand Lake Commons    1\n",
              "Gampaha              1\n",
              "Name: START, Length: 157, dtype: int64"
            ]
          },
          "metadata": {},
          "execution_count": 17
        }
      ],
      "source": [
        "start_point = df.START.value_counts()\n",
        "start_point[start_point<10]"
      ]
    },
    {
      "cell_type": "markdown",
      "id": "8de7382c",
      "metadata": {
        "id": "8de7382c",
        "papermill": {
          "duration": 0.059577,
          "end_time": "2021-08-11T17:29:04.624873",
          "exception": false,
          "start_time": "2021-08-11T17:29:04.565296",
          "status": "completed"
        },
        "tags": []
      },
      "source": [
        "Above are start point with lowest number of starts"
      ]
    },
    {
      "cell_type": "code",
      "execution_count": 18,
      "id": "a66517a7",
      "metadata": {
        "execution": {
          "iopub.execute_input": "2021-08-11T17:29:04.869932Z",
          "iopub.status.busy": "2021-08-11T17:29:04.865922Z",
          "iopub.status.idle": "2021-08-11T17:29:04.874801Z",
          "shell.execute_reply": "2021-08-11T17:29:04.874264Z",
          "shell.execute_reply.started": "2021-08-11T17:22:09.757166Z"
        },
        "id": "a66517a7",
        "outputId": "f203f4e9-4032-4916-d53e-12afb2773dd2",
        "papermill": {
          "duration": 0.073837,
          "end_time": "2021-08-11T17:29:04.874964",
          "exception": false,
          "start_time": "2021-08-11T17:29:04.801127",
          "status": "completed"
        },
        "tags": [],
        "colab": {
          "base_uri": "https://localhost:8080/",
          "height": 313
        }
      },
      "outputs": [
        {
          "output_type": "display_data",
          "data": {
            "text/plain": [
              "<Figure size 432x288 with 1 Axes>"
            ],
            "image/png": "[encoded data removed]"
          },
          "metadata": {}
        }
      ],
      "source": [
        "Stop_point = df.STOP.value_counts()\n",
        "Stop_point_value=Stop_point[Stop_point > 10]\n",
        "pie=plt.pie(Stop_point_value,labels = Stop_point_value.index, shadow = True, startangle = 190)\n",
        "plt.tight_layout()\n",
        "plt.title(\"Stop location\")\n",
        "plt.show()"
      ]
    },
    {
      "cell_type": "markdown",
      "id": "68beb5ed",
      "metadata": {
        "id": "68beb5ed",
        "papermill": {
          "duration": 0.057661,
          "end_time": "2021-08-11T17:29:04.991115",
          "exception": false,
          "start_time": "2021-08-11T17:29:04.933454",
          "status": "completed"
        },
        "tags": []
      },
      "source": [
        "Cary , Morrisville , Whitebridge and Islamabad have highest stop points. "
      ]
    },
    {
      "cell_type": "code",
      "execution_count": 19,
      "id": "16fe7447",
      "metadata": {
        "execution": {
          "iopub.execute_input": "2021-08-11T17:29:05.235971Z",
          "iopub.status.busy": "2021-08-11T17:29:05.231178Z",
          "iopub.status.idle": "2021-08-11T17:29:05.240950Z",
          "shell.execute_reply": "2021-08-11T17:29:05.240421Z",
          "shell.execute_reply.started": "2021-08-11T17:22:09.783144Z"
        },
        "id": "16fe7447",
        "outputId": "69865aa4-6076-42a7-b1c6-e54c15f5b4d4",
        "papermill": {
          "duration": 0.074195,
          "end_time": "2021-08-11T17:29:05.241109",
          "exception": false,
          "start_time": "2021-08-11T17:29:05.166914",
          "status": "completed"
        },
        "tags": [],
        "colab": {
          "base_uri": "https://localhost:8080/"
        }
      },
      "outputs": [
        {
          "output_type": "execute_result",
          "data": {
            "text/plain": [
              "New Orleans          10\n",
              "Edgehill Farms       10\n",
              "Kenner               10\n",
              "Central               9\n",
              "Emeryville            9\n",
              "                     ..\n",
              "Daytona Beach         1\n",
              "Sand Lake Commons     1\n",
              "Sky Lake              1\n",
              "Vista East            1\n",
              "Ilukwatta             1\n",
              "Name: STOP, Length: 171, dtype: int64"
            ]
          },
          "metadata": {},
          "execution_count": 19
        }
      ],
      "source": [
        "Stop_point = df.STOP.value_counts()\n",
        "Stop_point[Stop_point <= 10]"
      ]
    },
    {
      "cell_type": "markdown",
      "id": "0e10c5ac",
      "metadata": {
        "id": "0e10c5ac",
        "papermill": {
          "duration": 0.057878,
          "end_time": "2021-08-11T17:29:05.356940",
          "exception": false,
          "start_time": "2021-08-11T17:29:05.299062",
          "status": "completed"
        },
        "tags": []
      },
      "source": [
        "These are places with the lowest stopping point."
      ]
    },
    {
      "cell_type": "markdown",
      "source": [
        "Seeing the highest starting and stoping point, we can say that Cary, Morrisville, Whitebridge and Islamabad are famous destinations."
      ],
      "metadata": {
        "id": "YIhcF9M_XRTv"
      },
      "id": "YIhcF9M_XRTv"
    },
    {
      "cell_type": "markdown",
      "id": "9d77c592",
      "metadata": {
        "id": "9d77c592",
        "papermill": {
          "duration": 0.067375,
          "end_time": "2021-08-11T17:29:10.063333",
          "exception": false,
          "start_time": "2021-08-11T17:29:09.995958",
          "status": "completed"
        },
        "tags": []
      },
      "source": [
        "### ROUNDABOUT TRIPS"
      ]
    },
    {
      "cell_type": "code",
      "execution_count": 20,
      "id": "7c94c2b4",
      "metadata": {
        "execution": {
          "iopub.execute_input": "2021-08-11T17:29:10.219744Z",
          "iopub.status.busy": "2021-08-11T17:29:10.208602Z",
          "iopub.status.idle": "2021-08-11T17:29:10.356330Z",
          "shell.execute_reply": "2021-08-11T17:29:10.355598Z",
          "shell.execute_reply.started": "2021-08-11T17:22:12.588022Z"
        },
        "id": "7c94c2b4",
        "papermill": {
          "duration": 0.22405,
          "end_time": "2021-08-11T17:29:10.356503",
          "exception": false,
          "start_time": "2021-08-11T17:29:10.132453",
          "status": "completed"
        },
        "tags": [],
        "colab": {
          "base_uri": "https://localhost:8080/",
          "height": 407
        },
        "outputId": "da1dbe34-7f90-4cf5-9dc9-f18d1c747775"
      },
      "outputs": [
        {
          "output_type": "stream",
          "name": "stderr",
          "text": [
            "/usr/local/lib/python3.8/dist-packages/seaborn/_decorators.py:36: FutureWarning: Pass the following variable as a keyword arg: x. From version 0.12, the only valid positional argument will be `data`, and passing other arguments without an explicit keyword will result in an error or misinterpretation.\n",
            "  warnings.warn(\n"
          ]
        },
        {
          "output_type": "display_data",
          "data": {
            "text/plain": [
              "<Figure size 576x360 with 1 Axes>"
            ],
            "image/png": "[encoded data removed]"
          },
          "metadata": {
            "needs_background": "light"
          }
        }
      ],
      "source": [
        "plt.figure(figsize=(8,5))\n",
        "def round(x):\n",
        "  if x['START'] == x['STOP']:\n",
        "    return 'YES'\n",
        "  else:\n",
        "    return 'NO'  \n",
        "\n",
        "df['ROUND_TRIP'] = df.apply(round, axis = 1)\n",
        "sns.countplot(df['ROUND_TRIP'], palette = 'rocket_r').set(title='Roundabout trips')\n",
        "plt.show()"
      ]
    },
    {
      "cell_type": "markdown",
      "id": "d9d198c7",
      "metadata": {
        "id": "d9d198c7",
        "papermill": {
          "duration": 0.058685,
          "end_time": "2021-08-11T17:29:05.594420",
          "exception": false,
          "start_time": "2021-08-11T17:29:05.535735",
          "status": "completed"
        },
        "tags": []
      },
      "source": [
        "### MILES & MINUTES TRAVELLED"
      ]
    },
    {
      "cell_type": "code",
      "source": [
        "print(np.max(df.MILES))\n",
        "print(np.min(df.MILES))"
      ],
      "metadata": {
        "colab": {
          "base_uri": "https://localhost:8080/"
        },
        "id": "DQ4ZShLRLrvY",
        "outputId": "246fc9b6-8fbe-4150-8bf7-afe8a588e451"
      },
      "id": "DQ4ZShLRLrvY",
      "execution_count": 21,
      "outputs": [
        {
          "output_type": "stream",
          "name": "stdout",
          "text": [
            "310.3\n",
            "0.5\n"
          ]
        }
      ]
    },
    {
      "cell_type": "code",
      "source": [
        "bins = np.arange(0, 315, 15)\n",
        "labels = [f\"{i} - {i+15}\" for i in range (0, 300, 15)]\n",
        "df['MILES_bins'] = pd.cut(df['MILES'],bins=bins, labels=labels)"
      ],
      "metadata": {
        "id": "9sf-p8GyM9iS"
      },
      "id": "9sf-p8GyM9iS",
      "execution_count": 22,
      "outputs": []
    },
    {
      "cell_type": "code",
      "execution_count": 23,
      "id": "070cb965",
      "metadata": {
        "execution": {
          "iopub.execute_input": "2021-08-11T17:29:05.742747Z",
          "iopub.status.busy": "2021-08-11T17:29:05.733691Z",
          "iopub.status.idle": "2021-08-11T17:29:06.088520Z",
          "shell.execute_reply": "2021-08-11T17:29:06.089050Z",
          "shell.execute_reply.started": "2021-08-11T17:22:09.80088Z"
        },
        "id": "070cb965",
        "papermill": {
          "duration": 0.434868,
          "end_time": "2021-08-11T17:29:06.089319",
          "exception": false,
          "start_time": "2021-08-11T17:29:05.654451",
          "status": "completed"
        },
        "tags": [],
        "colab": {
          "base_uri": "https://localhost:8080/",
          "height": 327
        },
        "outputId": "8d21b523-b6dc-44ca-f7a0-2d228addee9b"
      },
      "outputs": [
        {
          "output_type": "display_data",
          "data": {
            "text/plain": [
              "<Figure size 432x288 with 1 Axes>"
            ],
            "image/png": "[encoded data removed]"
          },
          "metadata": {
            "needs_background": "light"
          }
        }
      ],
      "source": [
        "Miles = df.MILES_bins.value_counts(sort=False)\n",
        "Miles.plot(kind = 'bar')\n",
        "plt.tight_layout()\n",
        "plt.title(\"Miles travelled\")\n",
        "plt.xlabel('Miles')\n",
        "plt.ylabel('Frequency')\n",
        "plt.show()"
      ]
    },
    {
      "cell_type": "markdown",
      "id": "5be55a2b",
      "metadata": {
        "id": "5be55a2b",
        "papermill": {
          "duration": 0.061051,
          "end_time": "2021-08-11T17:29:07.126220",
          "exception": false,
          "start_time": "2021-08-11T17:29:07.065169",
          "status": "completed"
        },
        "tags": []
      },
      "source": [
        "From the above plot, we can understand that mostly miles travelled are lower than 15 miles."
      ]
    },
    {
      "cell_type": "code",
      "execution_count": 24,
      "id": "036611d5",
      "metadata": {
        "execution": {
          "iopub.execute_input": "2021-08-11T17:29:07.848713Z",
          "iopub.status.busy": "2021-08-11T17:29:07.847668Z",
          "iopub.status.idle": "2021-08-11T17:29:07.852926Z",
          "shell.execute_reply": "2021-08-11T17:29:07.852161Z",
          "shell.execute_reply.started": "2021-08-11T17:22:11.206991Z"
        },
        "id": "036611d5",
        "papermill": {
          "duration": 0.087064,
          "end_time": "2021-08-11T17:29:07.853108",
          "exception": false,
          "start_time": "2021-08-11T17:29:07.766044",
          "status": "completed"
        },
        "tags": [],
        "colab": {
          "base_uri": "https://localhost:8080/",
          "height": 250
        },
        "outputId": "ea2cc3c9-ae19-4817-94df-29c6485272ec"
      },
      "outputs": [
        {
          "output_type": "execute_result",
          "data": {
            "text/plain": [
              "           START_DATE            END_DATE  CATEGORY        START  \\\n",
              "0 2016-01-01 21:11:00 2016-01-01 21:17:00  Business  Fort Pierce   \n",
              "1 2016-01-02 01:25:00 2016-01-02 01:37:00  Business  Fort Pierce   \n",
              "2 2016-01-02 20:25:00 2016-01-02 20:38:00  Business  Fort Pierce   \n",
              "3 2016-01-05 17:31:00 2016-01-05 17:45:00  Business  Fort Pierce   \n",
              "4 2016-01-06 14:42:00 2016-01-06 15:49:00  Business  Fort Pierce   \n",
              "\n",
              "              STOP  MILES          PURPOSE ROUND_TRIP MILES_bins  MINUTES  \n",
              "0      Fort Pierce    5.1   Meal/Entertain        YES     0 - 15      6.0  \n",
              "1      Fort Pierce    5.0   Meal/Entertain        YES     0 - 15     12.0  \n",
              "2      Fort Pierce    4.8  Errand/Supplies        YES     0 - 15     13.0  \n",
              "3      Fort Pierce    4.7          Meeting        YES     0 - 15     14.0  \n",
              "4  West Palm Beach   63.7   Customer Visit         NO    60 - 75     67.0  "
            ],
            "text/html": [
              "\n",
              "  <div id=\"df-b27484cb-a1db-4aa6-ab0b-391491c371bc\">\n",
              "    <div class=\"colab-df-container\">\n",
              "      <div>\n",
              "<style scoped>\n",
              "    .dataframe tbody tr th:only-of-type {\n",
              "        vertical-align: middle;\n",
              "    }\n",
              "\n",
              "    .dataframe tbody tr th {\n",
              "        vertical-align: top;\n",
              "    }\n",
              "\n",
              "    .dataframe thead th {\n",
              "        text-align: right;\n",
              "    }\n",
              "</style>\n",
              "<table border=\"1\" class=\"dataframe\">\n",
              "  <thead>\n",
              "    <tr style=\"text-align: right;\">\n",
              "      <th></th>\n",
              "      <th>START_DATE</th>\n",
              "      <th>END_DATE</th>\n",
              "      <th>CATEGORY</th>\n",
              "      <th>START</th>\n",
              "      <th>STOP</th>\n",
              "      <th>MILES</th>\n",
              "      <th>PURPOSE</th>\n",
              "      <th>ROUND_TRIP</th>\n",
              "      <th>MILES_bins</th>\n",
              "      <th>MINUTES</th>\n",
              "    </tr>\n",
              "  </thead>\n",
              "  <tbody>\n",
              "    <tr>\n",
              "      <th>0</th>\n",
              "      <td>2016-01-01 21:11:00</td>\n",
              "      <td>2016-01-01 21:17:00</td>\n",
              "      <td>Business</td>\n",
              "      <td>Fort Pierce</td>\n",
              "      <td>Fort Pierce</td>\n",
              "      <td>5.1</td>\n",
              "      <td>Meal/Entertain</td>\n",
              "      <td>YES</td>\n",
              "      <td>0 - 15</td>\n",
              "      <td>6.0</td>\n",
              "    </tr>\n",
              "    <tr>\n",
              "      <th>1</th>\n",
              "      <td>2016-01-02 01:25:00</td>\n",
              "      <td>2016-01-02 01:37:00</td>\n",
              "      <td>Business</td>\n",
              "      <td>Fort Pierce</td>\n",
              "      <td>Fort Pierce</td>\n",
              "      <td>5.0</td>\n",
              "      <td>Meal/Entertain</td>\n",
              "      <td>YES</td>\n",
              "      <td>0 - 15</td>\n",
              "      <td>12.0</td>\n",
              "    </tr>\n",
              "    <tr>\n",
              "      <th>2</th>\n",
              "      <td>2016-01-02 20:25:00</td>\n",
              "      <td>2016-01-02 20:38:00</td>\n",
              "      <td>Business</td>\n",
              "      <td>Fort Pierce</td>\n",
              "      <td>Fort Pierce</td>\n",
              "      <td>4.8</td>\n",
              "      <td>Errand/Supplies</td>\n",
              "      <td>YES</td>\n",
              "      <td>0 - 15</td>\n",
              "      <td>13.0</td>\n",
              "    </tr>\n",
              "    <tr>\n",
              "      <th>3</th>\n",
              "      <td>2016-01-05 17:31:00</td>\n",
              "      <td>2016-01-05 17:45:00</td>\n",
              "      <td>Business</td>\n",
              "      <td>Fort Pierce</td>\n",
              "      <td>Fort Pierce</td>\n",
              "      <td>4.7</td>\n",
              "      <td>Meeting</td>\n",
              "      <td>YES</td>\n",
              "      <td>0 - 15</td>\n",
              "      <td>14.0</td>\n",
              "    </tr>\n",
              "    <tr>\n",
              "      <th>4</th>\n",
              "      <td>2016-01-06 14:42:00</td>\n",
              "      <td>2016-01-06 15:49:00</td>\n",
              "      <td>Business</td>\n",
              "      <td>Fort Pierce</td>\n",
              "      <td>West Palm Beach</td>\n",
              "      <td>63.7</td>\n",
              "      <td>Customer Visit</td>\n",
              "      <td>NO</td>\n",
              "      <td>60 - 75</td>\n",
              "      <td>67.0</td>\n",
              "    </tr>\n",
              "  </tbody>\n",
              "</table>\n",
              "</div>\n",
              "      <button class=\"colab-df-convert\" onclick=\"convertToInteractive('df-b27484cb-a1db-4aa6-ab0b-391491c371bc')\"\n",
              "              title=\"Convert this dataframe to an interactive table.\"\n",
              "              style=\"display:none;\">\n",
              "        \n",
              "  <svg xmlns=\"http://www.w3.org/2000/svg\" height=\"24px\"viewBox=\"0 0 24 24\"\n",
              "       width=\"24px\">\n",
              "    <path d=\"M0 0h24v24H0V0z\" fill=\"none\"/>\n",
              "    <path d=\"M18.56 5.44l.94 2.06.94-2.06 2.06-.94-2.06-.94-.94-2.06-.94 2.06-2.06.94zm-11 1L8.5 8.5l.94-2.06 2.06-.94-2.06-.94L8.5 2.5l-.94 2.06-2.06.94zm10 10l.94 2.06.94-2.06 2.06-.94-2.06-.94-.94-2.06-.94 2.06-2.06.94z\"/><path d=\"M17.41 7.96l-1.37-1.37c-.4-.4-.92-.59-1.43-.59-.52 0-1.04.2-1.43.59L10.3 9.45l-7.72 7.72c-.78.78-.78 2.05 0 2.83L4 21.41c.39.39.9.59 1.41.59.51 0 1.02-.2 1.41-.59l7.78-7.78 2.81-2.81c.8-.78.8-2.07 0-2.86zM5.41 20L4 18.59l7.72-7.72 1.47 1.35L5.41 20z\"/>\n",
              "  </svg>\n",
              "      </button>\n",
              "      \n",
              "  <style>\n",
              "    .colab-df-container {\n",
              "      display:flex;\n",
              "      flex-wrap:wrap;\n",
              "      gap: 12px;\n",
              "    }\n",
              "\n",
              "    .colab-df-convert {\n",
              "      background-color: #E8F0FE;\n",
              "      border: none;\n",
              "      border-radius: 50%;\n",
              "      cursor: pointer;\n",
              "      display: none;\n",
              "      fill: #1967D2;\n",
              "      height: 32px;\n",
              "      padding: 0 0 0 0;\n",
              "      width: 32px;\n",
              "    }\n",
              "\n",
              "    .colab-df-convert:hover {\n",
              "      background-color: #E2EBFA;\n",
              "      box-shadow: 0px 1px 2px rgba(60, 64, 67, 0.3), 0px 1px 3px 1px rgba(60, 64, 67, 0.15);\n",
              "      fill: #174EA6;\n",
              "    }\n",
              "\n",
              "    [theme=dark] .colab-df-convert {\n",
              "      background-color: #3B4455;\n",
              "      fill: #D2E3FC;\n",
              "    }\n",
              "\n",
              "    [theme=dark] .colab-df-convert:hover {\n",
              "      background-color: #434B5C;\n",
              "      box-shadow: 0px 1px 3px 1px rgba(0, 0, 0, 0.15);\n",
              "      filter: drop-shadow(0px 1px 2px rgba(0, 0, 0, 0.3));\n",
              "      fill: #FFFFFF;\n",
              "    }\n",
              "  </style>\n",
              "\n",
              "      <script>\n",
              "        const buttonEl =\n",
              "          document.querySelector('#df-b27484cb-a1db-4aa6-ab0b-391491c371bc button.colab-df-convert');\n",
              "        buttonEl.style.display =\n",
              "          google.colab.kernel.accessAllowed ? 'block' : 'none';\n",
              "\n",
              "        async function convertToInteractive(key) {\n",
              "          const element = document.querySelector('#df-b27484cb-a1db-4aa6-ab0b-391491c371bc');\n",
              "          const dataTable =\n",
              "            await google.colab.kernel.invokeFunction('convertToInteractive',\n",
              "                                                     [key], {});\n",
              "          if (!dataTable) return;\n",
              "\n",
              "          const docLinkHtml = 'Like what you see? Visit the ' +\n",
              "            '<a target=\"_blank\" href=https://colab.research.google.com/notebooks/data_table.ipynb>data table notebook</a>'\n",
              "            + ' to learn more about interactive tables.';\n",
              "          element.innerHTML = '';\n",
              "          dataTable['output_type'] = 'display_data';\n",
              "          await google.colab.output.renderOutput(dataTable, element);\n",
              "          const docLink = document.createElement('div');\n",
              "          docLink.innerHTML = docLinkHtml;\n",
              "          element.appendChild(docLink);\n",
              "        }\n",
              "      </script>\n",
              "    </div>\n",
              "  </div>\n",
              "  "
            ]
          },
          "metadata": {},
          "execution_count": 24
        }
      ],
      "source": [
        "# calculating minutes of trip\n",
        "df['MINUTES']=df.END_DATE - df.START_DATE\n",
        "df['MINUTES'] = df['MINUTES'].dt.total_seconds()/60\n",
        "df.head()"
      ]
    },
    {
      "cell_type": "code",
      "execution_count": 25,
      "id": "3cdcf760",
      "metadata": {
        "execution": {
          "iopub.execute_input": "2021-08-11T17:29:15.880683Z",
          "iopub.status.busy": "2021-08-11T17:29:15.879888Z",
          "iopub.status.idle": "2021-08-11T17:29:16.223964Z",
          "shell.execute_reply": "2021-08-11T17:29:16.223305Z",
          "shell.execute_reply.started": "2021-08-11T17:22:16.845967Z"
        },
        "id": "3cdcf760",
        "papermill": {
          "duration": 0.448524,
          "end_time": "2021-08-11T17:29:16.224141",
          "exception": false,
          "start_time": "2021-08-11T17:29:15.775617",
          "status": "completed"
        },
        "tags": [],
        "colab": {
          "base_uri": "https://localhost:8080/",
          "height": 350
        },
        "outputId": "7be3929e-9dec-46cf-9c43-82bc54c6bcbb"
      },
      "outputs": [
        {
          "output_type": "display_data",
          "data": {
            "text/plain": [
              "<Figure size 1152x360 with 1 Axes>"
            ],
            "image/png": "[encoded data removed]"
          },
          "metadata": {
            "needs_background": "light"
          }
        }
      ],
      "source": [
        "plt.figure(figsize=(16,5))\n",
        "plt.subplot(1,2,1)\n",
        "n, bins, patches = plt.hist(df.MINUTES)\n",
        "plt.xticks(bins.round())\n",
        "plt.grid(True, linestyle=\"dotted\")\n",
        "plt.title(\"Count of Cab ride MINUTES\")\n",
        "plt.xlabel('Minutes')\n",
        "plt.ylabel('Frequency')\n",
        "\n",
        "plt.show()"
      ]
    },
    {
      "cell_type": "markdown",
      "source": [
        "From the above plot, we can understand that mostly minutes travelled are lower than 30 minutes."
      ],
      "metadata": {
        "id": "Bf7sRY1VMAiP"
      },
      "id": "Bf7sRY1VMAiP"
    },
    {
      "cell_type": "code",
      "source": [
        "x1=df['MILES']\n",
        "y1=(1/0.621371)*x1\n",
        "x2=df['MILES']\n",
        "y2=(1/1.03562)*x2\n",
        "plt.scatter(df['MILES'],df['MINUTES'],color='c')\n",
        "plt.plot(x1,y1,color='r')\n",
        "plt.plot(x2,y2,color='b')\n",
        "plt.tight_layout()\n",
        "plt.title('Miles vs minutes')\n",
        "plt.xlabel(\"Distance in miles\")\n",
        "plt.ylabel(\"Minutes\")\n",
        "plt.grid(True)\n",
        "plt.show()"
      ],
      "metadata": {
        "colab": {
          "base_uri": "https://localhost:8080/",
          "height": 327
        },
        "id": "f6Ybj3o1T_gw",
        "outputId": "bd5b7720-dbaa-4f08-e3d9-a5dfa1aad598"
      },
      "id": "f6Ybj3o1T_gw",
      "execution_count": 26,
      "outputs": [
        {
          "output_type": "display_data",
          "data": {
            "text/plain": [
              "<Figure size 432x288 with 1 Axes>"
            ],
            "image/png": "[encoded data removed]"
          },
          "metadata": {
            "needs_background": "light"
          }
        }
      ]
    },
    {
      "cell_type": "markdown",
      "source": [
        "Data points below \n",
        "\n",
        "-red line indicate a speed greater than 60km/hr.\n",
        "\n",
        "-blue line indicate a speed greater than 100km/hr.\n",
        "\n",
        "Rides which cover longer distances are seen to traveling with a speed around 100km/hr. They could be using the highways. \n",
        "\n",
        "Also, we see that our conventional logic, that distance is proportional to time, is challenged as some cab rides took more time for less distance."
      ],
      "metadata": {
        "id": "SVWIMLMBehHT"
      },
      "id": "SVWIMLMBehHT"
    },
    {
      "cell_type": "markdown",
      "id": "3f23d40f",
      "metadata": {
        "id": "3f23d40f",
        "papermill": {
          "duration": 0.067963,
          "end_time": "2021-08-11T17:29:10.492021",
          "exception": false,
          "start_time": "2021-08-11T17:29:10.424058",
          "status": "completed"
        },
        "tags": []
      },
      "source": [
        "### MONTHLY RIDES"
      ]
    },
    {
      "cell_type": "code",
      "execution_count": 27,
      "id": "29fbda5f",
      "metadata": {
        "execution": {
          "iopub.execute_input": "2021-08-11T17:29:10.635001Z",
          "iopub.status.busy": "2021-08-11T17:29:10.634271Z",
          "iopub.status.idle": "2021-08-11T17:29:10.637049Z",
          "shell.execute_reply": "2021-08-11T17:29:10.636412Z",
          "shell.execute_reply.started": "2021-08-11T17:22:12.749489Z"
        },
        "id": "29fbda5f",
        "papermill": {
          "duration": 0.077729,
          "end_time": "2021-08-11T17:29:10.637252",
          "exception": false,
          "start_time": "2021-08-11T17:29:10.559523",
          "status": "completed"
        },
        "tags": []
      },
      "outputs": [],
      "source": [
        "df['MONTH'] = pd.DatetimeIndex(df['START_DATE']).month"
      ]
    },
    {
      "cell_type": "code",
      "execution_count": 28,
      "id": "f175ae4c",
      "metadata": {
        "execution": {
          "iopub.execute_input": "2021-08-11T17:29:10.778619Z",
          "iopub.status.busy": "2021-08-11T17:29:10.777930Z",
          "iopub.status.idle": "2021-08-11T17:29:10.780794Z",
          "shell.execute_reply": "2021-08-11T17:29:10.781319Z",
          "shell.execute_reply.started": "2021-08-11T17:22:12.757169Z"
        },
        "id": "f175ae4c",
        "papermill": {
          "duration": 0.076881,
          "end_time": "2021-08-11T17:29:10.781523",
          "exception": false,
          "start_time": "2021-08-11T17:29:10.704642",
          "status": "completed"
        },
        "tags": []
      },
      "outputs": [],
      "source": [
        "dic = {1:'Jan', 2: 'Feb', 3: 'Mar', 4: 'April', 5: 'May', 6: 'June', 7: 'July', 8: 'Aug', 9: 'Sep',\n",
        "      10: 'Oct', 11: 'Nov', 12: 'Dec' }\n",
        "\n",
        "df['MONTH'] = df['MONTH'].map(dic)"
      ]
    },
    {
      "cell_type": "code",
      "execution_count": 29,
      "id": "c26616e1",
      "metadata": {
        "execution": {
          "iopub.execute_input": "2021-08-11T17:29:10.920749Z",
          "iopub.status.busy": "2021-08-11T17:29:10.920090Z",
          "iopub.status.idle": "2021-08-11T17:29:10.946087Z",
          "shell.execute_reply": "2021-08-11T17:29:10.946612Z",
          "shell.execute_reply.started": "2021-08-11T17:22:12.774252Z"
        },
        "id": "c26616e1",
        "papermill": {
          "duration": 0.097306,
          "end_time": "2021-08-11T17:29:10.946812",
          "exception": false,
          "start_time": "2021-08-11T17:29:10.849506",
          "status": "completed"
        },
        "tags": [],
        "colab": {
          "base_uri": "https://localhost:8080/",
          "height": 337
        },
        "outputId": "4c6ea2a2-cec0-40fc-d532-092e930b815c"
      },
      "outputs": [
        {
          "output_type": "execute_result",
          "data": {
            "text/plain": [
              "           START_DATE            END_DATE  CATEGORY        START  \\\n",
              "0 2016-01-01 21:11:00 2016-01-01 21:17:00  Business  Fort Pierce   \n",
              "1 2016-01-02 01:25:00 2016-01-02 01:37:00  Business  Fort Pierce   \n",
              "2 2016-01-02 20:25:00 2016-01-02 20:38:00  Business  Fort Pierce   \n",
              "3 2016-01-05 17:31:00 2016-01-05 17:45:00  Business  Fort Pierce   \n",
              "4 2016-01-06 14:42:00 2016-01-06 15:49:00  Business  Fort Pierce   \n",
              "\n",
              "              STOP  MILES          PURPOSE ROUND_TRIP MILES_bins  MINUTES  \\\n",
              "0      Fort Pierce    5.1   Meal/Entertain        YES     0 - 15      6.0   \n",
              "1      Fort Pierce    5.0   Meal/Entertain        YES     0 - 15     12.0   \n",
              "2      Fort Pierce    4.8  Errand/Supplies        YES     0 - 15     13.0   \n",
              "3      Fort Pierce    4.7          Meeting        YES     0 - 15     14.0   \n",
              "4  West Palm Beach   63.7   Customer Visit         NO    60 - 75     67.0   \n",
              "\n",
              "  MONTH  \n",
              "0   Jan  \n",
              "1   Jan  \n",
              "2   Jan  \n",
              "3   Jan  \n",
              "4   Jan  "
            ],
            "text/html": [
              "\n",
              "  <div id=\"df-2a2ac35f-2aae-4080-a531-f278941ced19\">\n",
              "    <div class=\"colab-df-container\">\n",
              "      <div>\n",
              "<style scoped>\n",
              "    .dataframe tbody tr th:only-of-type {\n",
              "        vertical-align: middle;\n",
              "    }\n",
              "\n",
              "    .dataframe tbody tr th {\n",
              "        vertical-align: top;\n",
              "    }\n",
              "\n",
              "    .dataframe thead th {\n",
              "        text-align: right;\n",
              "    }\n",
              "</style>\n",
              "<table border=\"1\" class=\"dataframe\">\n",
              "  <thead>\n",
              "    <tr style=\"text-align: right;\">\n",
              "      <th></th>\n",
              "      <th>START_DATE</th>\n",
              "      <th>END_DATE</th>\n",
              "      <th>CATEGORY</th>\n",
              "      <th>START</th>\n",
              "      <th>STOP</th>\n",
              "      <th>MILES</th>\n",
              "      <th>PURPOSE</th>\n",
              "      <th>ROUND_TRIP</th>\n",
              "      <th>MILES_bins</th>\n",
              "      <th>MINUTES</th>\n",
              "      <th>MONTH</th>\n",
              "    </tr>\n",
              "  </thead>\n",
              "  <tbody>\n",
              "    <tr>\n",
              "      <th>0</th>\n",
              "      <td>2016-01-01 21:11:00</td>\n",
              "      <td>2016-01-01 21:17:00</td>\n",
              "      <td>Business</td>\n",
              "      <td>Fort Pierce</td>\n",
              "      <td>Fort Pierce</td>\n",
              "      <td>5.1</td>\n",
              "      <td>Meal/Entertain</td>\n",
              "      <td>YES</td>\n",
              "      <td>0 - 15</td>\n",
              "      <td>6.0</td>\n",
              "      <td>Jan</td>\n",
              "    </tr>\n",
              "    <tr>\n",
              "      <th>1</th>\n",
              "      <td>2016-01-02 01:25:00</td>\n",
              "      <td>2016-01-02 01:37:00</td>\n",
              "      <td>Business</td>\n",
              "      <td>Fort Pierce</td>\n",
              "      <td>Fort Pierce</td>\n",
              "      <td>5.0</td>\n",
              "      <td>Meal/Entertain</td>\n",
              "      <td>YES</td>\n",
              "      <td>0 - 15</td>\n",
              "      <td>12.0</td>\n",
              "      <td>Jan</td>\n",
              "    </tr>\n",
              "    <tr>\n",
              "      <th>2</th>\n",
              "      <td>2016-01-02 20:25:00</td>\n",
              "      <td>2016-01-02 20:38:00</td>\n",
              "      <td>Business</td>\n",
              "      <td>Fort Pierce</td>\n",
              "      <td>Fort Pierce</td>\n",
              "      <td>4.8</td>\n",
              "      <td>Errand/Supplies</td>\n",
              "      <td>YES</td>\n",
              "      <td>0 - 15</td>\n",
              "      <td>13.0</td>\n",
              "      <td>Jan</td>\n",
              "    </tr>\n",
              "    <tr>\n",
              "      <th>3</th>\n",
              "      <td>2016-01-05 17:31:00</td>\n",
              "      <td>2016-01-05 17:45:00</td>\n",
              "      <td>Business</td>\n",
              "      <td>Fort Pierce</td>\n",
              "      <td>Fort Pierce</td>\n",
              "      <td>4.7</td>\n",
              "      <td>Meeting</td>\n",
              "      <td>YES</td>\n",
              "      <td>0 - 15</td>\n",
              "      <td>14.0</td>\n",
              "      <td>Jan</td>\n",
              "    </tr>\n",
              "    <tr>\n",
              "      <th>4</th>\n",
              "      <td>2016-01-06 14:42:00</td>\n",
              "      <td>2016-01-06 15:49:00</td>\n",
              "      <td>Business</td>\n",
              "      <td>Fort Pierce</td>\n",
              "      <td>West Palm Beach</td>\n",
              "      <td>63.7</td>\n",
              "      <td>Customer Visit</td>\n",
              "      <td>NO</td>\n",
              "      <td>60 - 75</td>\n",
              "      <td>67.0</td>\n",
              "      <td>Jan</td>\n",
              "    </tr>\n",
              "  </tbody>\n",
              "</table>\n",
              "</div>\n",
              "      <button class=\"colab-df-convert\" onclick=\"convertToInteractive('df-2a2ac35f-2aae-4080-a531-f278941ced19')\"\n",
              "              title=\"Convert this dataframe to an interactive table.\"\n",
              "              style=\"display:none;\">\n",
              "        \n",
              "  <svg xmlns=\"http://www.w3.org/2000/svg\" height=\"24px\"viewBox=\"0 0 24 24\"\n",
              "       width=\"24px\">\n",
              "    <path d=\"M0 0h24v24H0V0z\" fill=\"none\"/>\n",
              "    <path d=\"M18.56 5.44l.94 2.06.94-2.06 2.06-.94-2.06-.94-.94-2.06-.94 2.06-2.06.94zm-11 1L8.5 8.5l.94-2.06 2.06-.94-2.06-.94L8.5 2.5l-.94 2.06-2.06.94zm10 10l.94 2.06.94-2.06 2.06-.94-2.06-.94-.94-2.06-.94 2.06-2.06.94z\"/><path d=\"M17.41 7.96l-1.37-1.37c-.4-.4-.92-.59-1.43-.59-.52 0-1.04.2-1.43.59L10.3 9.45l-7.72 7.72c-.78.78-.78 2.05 0 2.83L4 21.41c.39.39.9.59 1.41.59.51 0 1.02-.2 1.41-.59l7.78-7.78 2.81-2.81c.8-.78.8-2.07 0-2.86zM5.41 20L4 18.59l7.72-7.72 1.47 1.35L5.41 20z\"/>\n",
              "  </svg>\n",
              "      </button>\n",
              "      \n",
              "  <style>\n",
              "    .colab-df-container {\n",
              "      display:flex;\n",
              "      flex-wrap:wrap;\n",
              "      gap: 12px;\n",
              "    }\n",
              "\n",
              "    .colab-df-convert {\n",
              "      background-color: #E8F0FE;\n",
              "      border: none;\n",
              "      border-radius: 50%;\n",
              "      cursor: pointer;\n",
              "      display: none;\n",
              "      fill: #1967D2;\n",
              "      height: 32px;\n",
              "      padding: 0 0 0 0;\n",
              "      width: 32px;\n",
              "    }\n",
              "\n",
              "    .colab-df-convert:hover {\n",
              "      background-color: #E2EBFA;\n",
              "      box-shadow: 0px 1px 2px rgba(60, 64, 67, 0.3), 0px 1px 3px 1px rgba(60, 64, 67, 0.15);\n",
              "      fill: #174EA6;\n",
              "    }\n",
              "\n",
              "    [theme=dark] .colab-df-convert {\n",
              "      background-color: #3B4455;\n",
              "      fill: #D2E3FC;\n",
              "    }\n",
              "\n",
              "    [theme=dark] .colab-df-convert:hover {\n",
              "      background-color: #434B5C;\n",
              "      box-shadow: 0px 1px 3px 1px rgba(0, 0, 0, 0.15);\n",
              "      filter: drop-shadow(0px 1px 2px rgba(0, 0, 0, 0.3));\n",
              "      fill: #FFFFFF;\n",
              "    }\n",
              "  </style>\n",
              "\n",
              "      <script>\n",
              "        const buttonEl =\n",
              "          document.querySelector('#df-2a2ac35f-2aae-4080-a531-f278941ced19 button.colab-df-convert');\n",
              "        buttonEl.style.display =\n",
              "          google.colab.kernel.accessAllowed ? 'block' : 'none';\n",
              "\n",
              "        async function convertToInteractive(key) {\n",
              "          const element = document.querySelector('#df-2a2ac35f-2aae-4080-a531-f278941ced19');\n",
              "          const dataTable =\n",
              "            await google.colab.kernel.invokeFunction('convertToInteractive',\n",
              "                                                     [key], {});\n",
              "          if (!dataTable) return;\n",
              "\n",
              "          const docLinkHtml = 'Like what you see? Visit the ' +\n",
              "            '<a target=\"_blank\" href=https://colab.research.google.com/notebooks/data_table.ipynb>data table notebook</a>'\n",
              "            + ' to learn more about interactive tables.';\n",
              "          element.innerHTML = '';\n",
              "          dataTable['output_type'] = 'display_data';\n",
              "          await google.colab.output.renderOutput(dataTable, element);\n",
              "          const docLink = document.createElement('div');\n",
              "          docLink.innerHTML = docLinkHtml;\n",
              "          element.appendChild(docLink);\n",
              "        }\n",
              "      </script>\n",
              "    </div>\n",
              "  </div>\n",
              "  "
            ]
          },
          "metadata": {},
          "execution_count": 29
        }
      ],
      "source": [
        "df.head()"
      ]
    },
    {
      "cell_type": "code",
      "execution_count": 30,
      "id": "56a99ac0",
      "metadata": {
        "execution": {
          "iopub.execute_input": "2021-08-11T17:29:11.086857Z",
          "iopub.status.busy": "2021-08-11T17:29:11.086185Z",
          "iopub.status.idle": "2021-08-11T17:29:11.378122Z",
          "shell.execute_reply": "2021-08-11T17:29:11.377390Z",
          "shell.execute_reply.started": "2021-08-11T17:22:12.822186Z"
        },
        "id": "56a99ac0",
        "papermill": {
          "duration": 0.36354,
          "end_time": "2021-08-11T17:29:11.378278",
          "exception": false,
          "start_time": "2021-08-11T17:29:11.014738",
          "status": "completed"
        },
        "tags": [],
        "colab": {
          "base_uri": "https://localhost:8080/",
          "height": 514
        },
        "outputId": "a61ec0d7-afb3-4a37-cdd0-fc33d1019574"
      },
      "outputs": [
        {
          "output_type": "stream",
          "name": "stderr",
          "text": [
            "/usr/local/lib/python3.8/dist-packages/seaborn/_decorators.py:36: FutureWarning: Pass the following variable as a keyword arg: x. From version 0.12, the only valid positional argument will be `data`, and passing other arguments without an explicit keyword will result in an error or misinterpretation.\n",
            "  warnings.warn(\n"
          ]
        },
        {
          "output_type": "display_data",
          "data": {
            "text/plain": [
              "<Figure size 864x504 with 1 Axes>"
            ],
            "image/png": "[encoded data removed]"
          },
          "metadata": {
            "needs_background": "light"
          }
        }
      ],
      "source": [
        "plt.figure(figsize=(12,7))\n",
        "sns.countplot(df['MONTH'], order = df['MONTH'].value_counts().index, palette=\"pastel\").set(title='Monthly distribution of rides')\n",
        "plt.axhline(df['MONTH'].value_counts().mean(),linestyle='--', color = 'k', label='Mean Trips across Months')\n",
        "plt.legend()\n",
        "plt.show()"
      ]
    },
    {
      "cell_type": "markdown",
      "source": [
        "Uber rides were taken the most in december. This could be because of the holiday season."
      ],
      "metadata": {
        "id": "iPReNPgiM_tV"
      },
      "id": "iPReNPgiM_tV"
    },
    {
      "cell_type": "markdown",
      "id": "d46ddd37",
      "metadata": {
        "id": "d46ddd37",
        "papermill": {
          "duration": 0.073534,
          "end_time": "2021-08-11T17:29:16.371736",
          "exception": false,
          "start_time": "2021-08-11T17:29:16.298202",
          "status": "completed"
        },
        "tags": []
      },
      "source": [
        "### CATEGORY & PURPOSE OF RIDES"
      ]
    },
    {
      "cell_type": "code",
      "execution_count": 31,
      "id": "90453463",
      "metadata": {
        "execution": {
          "iopub.execute_input": "2021-08-11T17:29:03.383418Z",
          "iopub.status.busy": "2021-08-11T17:29:03.382701Z",
          "iopub.status.idle": "2021-08-11T17:29:03.633033Z",
          "shell.execute_reply": "2021-08-11T17:29:03.632375Z",
          "shell.execute_reply.started": "2021-08-11T17:22:09.022988Z"
        },
        "id": "90453463",
        "outputId": "66c4c94b-990b-4481-ed02-2abebb47c0d6",
        "papermill": {
          "duration": 0.315585,
          "end_time": "2021-08-11T17:29:03.633203",
          "exception": false,
          "start_time": "2021-08-11T17:29:03.317618",
          "status": "completed"
        },
        "tags": [],
        "colab": {
          "base_uri": "https://localhost:8080/",
          "height": 180
        }
      },
      "outputs": [
        {
          "output_type": "display_data",
          "data": {
            "text/plain": [
              "<Figure size 432x288 with 2 Axes>"
            ],
            "image/png": "[encoded data removed]"
          },
          "metadata": {}
        }
      ],
      "source": [
        "plt.subplot(1,2,1)\n",
        "plt.pie(df['CATEGORY'].value_counts(),labels = df['CATEGORY'].unique(), startangle = 190,autopct=\"%1.1f%%\")\n",
        "plt.tight_layout()\n",
        "plt.title(\"Count of travels as per category\")\n",
        "\n",
        "plt.subplot(1,2,2)\n",
        "df1=df.groupby(df['CATEGORY'],as_index=False)['MILES'].sum()\n",
        "plt.pie(df1['MILES'],labels = df1['CATEGORY'], startangle = 190,autopct=\"%1.1f%%\")\n",
        "plt.tight_layout()\n",
        "plt.title(\"Miles traveled per category\")\n",
        "\n",
        "plt.show()"
      ]
    },
    {
      "cell_type": "markdown",
      "source": [
        "Uber rides are mainly taken by people out for business travels. Also, miles travelled is more for business purposes."
      ],
      "metadata": {
        "id": "UvqQobPxGKmB"
      },
      "id": "UvqQobPxGKmB"
    },
    {
      "cell_type": "code",
      "execution_count": 32,
      "id": "30a16699",
      "metadata": {
        "execution": {
          "iopub.execute_input": "2021-08-11T17:29:16.534681Z",
          "iopub.status.busy": "2021-08-11T17:29:16.526631Z",
          "iopub.status.idle": "2021-08-11T17:29:16.801834Z",
          "shell.execute_reply": "2021-08-11T17:29:16.802354Z",
          "shell.execute_reply.started": "2021-08-11T17:22:17.234083Z"
        },
        "id": "30a16699",
        "papermill": {
          "duration": 0.357027,
          "end_time": "2021-08-11T17:29:16.802717",
          "exception": false,
          "start_time": "2021-08-11T17:29:16.445690",
          "status": "completed"
        },
        "tags": [],
        "colab": {
          "base_uri": "https://localhost:8080/",
          "height": 404
        },
        "outputId": "70733eb7-f7e7-4b94-f8f6-69467f6d2850"
      },
      "outputs": [
        {
          "output_type": "display_data",
          "data": {
            "text/plain": [
              "<Figure size 648x360 with 1 Axes>"
            ],
            "image/png": "[encoded data removed]"
          },
          "metadata": {
            "needs_background": "light"
          }
        }
      ],
      "source": [
        "plt.figure(figsize=(9,5))\n",
        "sns.countplot(data = df,x = \"PURPOSE\", hue=\"CATEGORY\",dodge=False).set(title='Category-wise & purpose-wise distribution')\n",
        "plt.xticks(rotation=45)\n",
        "plt.show()"
      ]
    },
    {
      "cell_type": "markdown",
      "id": "f7f1849b",
      "metadata": {
        "id": "f7f1849b",
        "papermill": {
          "duration": 0.075782,
          "end_time": "2021-08-11T17:29:16.955820",
          "exception": false,
          "start_time": "2021-08-11T17:29:16.880038",
          "status": "completed"
        },
        "tags": []
      },
      "source": [
        "Uber rides were mostly taken by persons heading out for meetings.\n",
        "The above plot makes clear distinction on the Purpose of Business rides and Personal rides. This may give insight to cab aggregators to decide which sector to introduce new cabs in."
      ]
    },
    {
      "cell_type": "markdown",
      "id": "c6d4ed21",
      "metadata": {
        "id": "c6d4ed21",
        "papermill": {
          "duration": 0.078391,
          "end_time": "2021-08-11T17:29:19.495658",
          "exception": false,
          "start_time": "2021-08-11T17:29:19.417267",
          "status": "completed"
        },
        "tags": []
      },
      "source": [
        "## CONCLUSION"
      ]
    },
    {
      "cell_type": "markdown",
      "id": "9bc52c51",
      "metadata": {
        "id": "9bc52c51",
        "papermill": {
          "duration": 0.080124,
          "end_time": "2021-08-11T17:29:19.657753",
          "exception": false,
          "start_time": "2021-08-11T17:29:19.577629",
          "status": "completed"
        },
        "tags": []
      },
      "source": [
        "1.   Business Cab rides are not only more in volume, but also in distance travelled.\n",
        "2. Cab traffic is mostly concentrated in 4 cities.\n",
        "3.   Most of the cab rides are within a distance of 15 miles taking about 34 minutes.\n",
        "4. Rides which cover longer distances are seen to traveling with a speed around 100km/hr. They could be using the highways. \n",
        "5. Seasonal pattern of cab ride exists, which is highest in December.\n",
        "6. Main uses of cab rides are Meal/Entertainment, Customer visit, Meeting, Errand/Supplies.\n",
        "\n"
      ]
    },
    {
      "cell_type": "markdown",
      "source": [
        "***Python Mini project by-***\n",
        "\n",
        "Sanika Tawate - 60009210161\n",
        "\n",
        "Farin Khan - 60009210140"
      ],
      "metadata": {
        "id": "oqOm1HObda6b"
      },
      "id": "oqOm1HObda6b"
    }
  ],
  "metadata": {
    "kernelspec": {
      "display_name": "Python 3",
      "language": "python",
      "name": "python3"
    },
    "language_info": {
      "codemirror_mode": {
        "name": "ipython",
        "version": 3
      },
      "file_extension": ".py",
      "mimetype": "text/x-python",
      "name": "python",
      "nbconvert_exporter": "python",
      "pygments_lexer": "ipython3",
      "version": "3.7.10"
    },
    "papermill": {
      "default_parameters": {},
      "duration": 31.969812,
      "end_time": "2021-08-11T17:29:21.654617",
      "environment_variables": {},
      "exception": null,
      "input_path": "__notebook__.ipynb",
      "output_path": "__notebook__.ipynb",
      "parameters": {},
      "start_time": "2021-08-11T17:28:49.684805",
      "version": "2.3.3"
    },
    "colab": {
      "provenance": [],
      "collapsed_sections": [
        "87611f86",
        "HYgZfauaJl2N",
        "2Yu76A8VLnnY",
        "9d77c592",
        "d9d198c7",
        "3f23d40f",
        "d46ddd37"
      ]
    }
  },
  "nbformat": 4,
  "nbformat_minor": 5
}